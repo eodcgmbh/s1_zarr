{
 "cells": [
  {
   "cell_type": "code",
   "execution_count": 306,
   "id": "f7344659",
   "metadata": {},
   "outputs": [],
   "source": [
    "from dotenv import load_dotenv\n",
    "import os\n",
    "load_dotenv(\"s3.env\")\n",
    "from hera.workflows import models, CronWorkflow, Workflow, script, Artifact, Parameter, DAG, Steps, Step, NoneArchiveStrategy\n",
    "from hera.shared import global_config\n",
    "\n",
    "global_config.host = \"https://dev.services.eodc.eu/workflows/\"\n",
    "global_config.namespace = \"inca\"\n",
    "global_config.token = os.getenv(\"argo_token\")\n",
    "global_config.image = \"ghcr.io/oscipal/image_zarr:latest\"\n",
    "\n",
    "security_context = {\"runAsUser\": 74268,\n",
    "                    \"runAsGroup\": 71473}\n",
    "\n",
    "nfs_volume = [models.Volume(\n",
    "    name=\"eodc-mount\",\n",
    "    persistent_volume_claim={\"claimName\": \"eodc-nfs-claim\"},\n",
    "    )]"
   ]
  },
  {
   "cell_type": "code",
   "execution_count": null,
   "id": "9350f31e",
   "metadata": {},
   "outputs": [],
   "source": [
    "@script(volume_mounts=[models.VolumeMount(name=\"eodc-mount\", mount_path=\"/eodc\")])\n",
    "\n",
    "def add_timestamps2zarr(store_path: str = \"/eodc/private/openeo_platform/zarr_nacho/INCA_test.zarr\"):\n",
    "    import datetime\n",
    "    import numpy as np\n",
    "    import zarr\n",
    "\n",
    "    now = datetime.datetime.now()\n",
    "    now_np = np.datetime64(now).astype('datetime64[h]')\n",
    "    origin = np.datetime64(\"2011-03-15T00:00:00\").astype(\"datetime64[h]\")\n",
    "\n",
    "    new_shape = int((now_np-origin).astype(int))\n",
    "    new_extent = np.arange(0,new_shape,1)\n",
    "\n",
    "    store = zarr.storage.LocalStore(store_path)\n",
    "    group = zarr.group(store=store)\n",
    "\n",
    "    array_names=set(group.array_keys())\n",
    "    coords = {\"time\", \"x\", \"y\"}\n",
    "    data_arrays = array_names-coords\n",
    "\n",
    "    group[\"time\"].resize(new_shape)\n",
    "    for array in data_arrays:\n",
    "        group_shape  = group[array].shape\n",
    "        group[array].resize((new_shape, group_shape[1], group_shape[2]))\n",
    "\n",
    "    zarr.consolidate_metadata(store)\n",
    "    store = zarr.storage.LocalStore(store_path)\n",
    "    group = zarr.group(store=store)\n",
    "\n",
    "    group[\"time\"][:]=new_extent\n"
   ]
  },
  {
   "cell_type": "code",
   "execution_count": 298,
   "id": "af2768af",
   "metadata": {},
   "outputs": [],
   "source": [
    "@script(outputs=Artifact(name=\"inca-file\", path=\"/tmp/INCA.nc\", archive=NoneArchiveStrategy()))\n",
    "\n",
    "def inca_download(variable: str):\n",
    "    from urllib.request import urlretrieve\n",
    "    import datetime\n",
    "\n",
    "    ym = (datetime.date.today()-datetime.timedelta(days=8)).strftime(\"%Y%m\")\n",
    "    print(ym)\n",
    "    url = f\"https://public.hub.geosphere.at/datahub/resources/inca-v1-1h-1km/filelisting/{variable}/INCAL_HOURLY_{variable}_{ym}.nc\"\n",
    "    urlretrieve(url, f\"/tmp/INCA.nc\")"
   ]
  },
  {
   "cell_type": "code",
   "execution_count": 299,
   "id": "37ea397c",
   "metadata": {},
   "outputs": [],
   "source": [
    "@script(inputs=Artifact(name=\"inca-file\", path=\"/tmp/INCA.nc\"),\n",
    "        volume_mounts=[models.VolumeMount(name=\"eodc-mount\", mount_path=\"/eodc\")])\n",
    "\n",
    "def inca_write(variable: str, store_path: str=\"/eodc/private/openeo_platform/zarr_nacho/INCA_test.zarr\"):\n",
    "    import xarray as xr\n",
    "    import numpy as np\n",
    "    import zarr\n",
    "\n",
    "    artifact_path = f\"/tmp/INCA.nc\"\n",
    "\n",
    "    def get_idx(array1, array2):\n",
    "        min_idx = np.where(array1 == array2[0])[0][0]\n",
    "        max_idx = np.where(array1 == array2[-1])[0][0] + 1\n",
    "        return min_idx, max_idx\n",
    "\n",
    "    data = xr.open_dataset(artifact_path, mask_and_scale=False).load()\n",
    "\n",
    "    store = zarr.storage.LocalStore(store_path)\n",
    "    group = zarr.group(store=store)\n",
    "    x_extent = group[\"x\"][:]\n",
    "    y_extent = group[\"y\"][:]\n",
    "\n",
    "    x_min, x_max = get_idx(x_extent, data[\"x\"].values)\n",
    "    y_min, y_max = get_idx(y_extent, data[\"y\"].values)\n",
    "\n",
    "    origin = np.datetime64(\"2011-03-15T00:00:00\").astype(\"datetime64[h]\")\n",
    "    time_min, time_max = data.time.values[0].astype(\"datetime64[h]\"), data.time.values[-1].astype(\"datetime64[h]\") + 1\n",
    "    time_delta_min, time_delta_max = (time_min - origin).astype(\"int64\"), (time_max - origin).astype(\"int64\")\n",
    "\n",
    "    group[variable][time_delta_min:time_delta_max, y_min:y_max, x_min:x_max] = data[variable].values"
   ]
  },
  {
   "cell_type": "code",
   "execution_count": 307,
   "id": "2764af72",
   "metadata": {},
   "outputs": [],
   "source": [
    "items = [\"RR\", \"T2M\", \"TD2M\", \"P0\", \"UU\", \"VV\", \"RH2M\", \"GL\"]\n",
    "\n",
    "with CronWorkflow(\n",
    "    generate_name=\"inca-zarr-\",\n",
    "    schedule=\"04 14 * * *\",\n",
    "    volumes = nfs_volume,\n",
    "    security_context=security_context,\n",
    "    entrypoint=\"workflow\"\n",
    ") as w:\n",
    "    with DAG(name=\"pipeline\", inputs=[Parameter(name=\"item\")]) as pipeline:\n",
    "        \n",
    "        download = inca_download(arguments={\"variable\":\"{{inputs.parameters.item}}\"},\n",
    "                                 )\n",
    "\n",
    "        process = inca_write(arguments=[{\"variable\": \"{{inputs.parameters.item}}\"}, \n",
    "                                        download.get_artifact(\"inca-file\").with_name(\"inca-file\")],\n",
    "                                        )\n",
    "\n",
    "        download >> process\n",
    "\n",
    "    with Steps(name=\"workflow\"):\n",
    "        add_timestamps2zarr()\n",
    "        Step(name=\"parallel-pipelines\", template=pipeline, with_param=items, arguments={\"item\":\"{{item}}\"})"
   ]
  },
  {
   "cell_type": "code",
   "execution_count": null,
   "id": "98a28670",
   "metadata": {},
   "outputs": [],
   "source": [
    "with open(\"INCA_workflow.yaml\", \"w\") as f:\n",
    "    f.write(w.to_yaml())"
   ]
  },
  {
   "cell_type": "code",
   "execution_count": 309,
   "id": "bfb7181b",
   "metadata": {},
   "outputs": [
    {
     "data": {
      "text/plain": [
       "CronWorkflow(api_version=None, kind=None, metadata=ObjectMeta(annotations=None, cluster_name=None, creation_timestamp=Time(__root__=datetime.datetime(2025, 7, 16, 14, 3, 57, tzinfo=datetime.timezone.utc)), deletion_grace_period_seconds=None, deletion_timestamp=None, finalizers=None, generate_name='inca-zarr-', generation=1, labels={'workflows.argoproj.io/creator': 'system-serviceaccount-default-jenkins'}, managed_fields=[ManagedFieldsEntry(api_version='argoproj.io/v1alpha1', fields_type='FieldsV1', fields_v1=FieldsV1(), manager='argo', operation='Update', subresource=None, time=Time(__root__=datetime.datetime(2025, 7, 16, 14, 3, 57, tzinfo=datetime.timezone.utc)))], name='inca-zarr-rfnfv', namespace='inca', owner_references=None, resource_version='310576193', self_link=None, uid='85494014-bb79-4958-a87b-b454633c567d'), spec=CronWorkflowSpec(concurrency_policy=None, failed_jobs_history_limit=None, schedule='04 14 * * *', starting_deadline_seconds=None, successful_jobs_history_limit=None, suspend=None, timezone=None, workflow_metadata=None, workflow_spec=WorkflowSpec(active_deadline_seconds=None, affinity=None, archive_logs=None, arguments=Arguments(artifacts=None, parameters=None), artifact_gc=None, artifact_repository_ref=None, automount_service_account_token=None, dns_config=None, dns_policy=None, entrypoint='workflow', executor=None, hooks=None, host_aliases=None, host_network=None, image_pull_secrets=None, metrics=None, node_selector=None, on_exit=None, parallelism=None, pod_disruption_budget=None, pod_gc=None, pod_metadata=None, pod_priority=None, pod_priority_class_name=None, pod_spec_patch=None, priority=None, retry_strategy=None, scheduler_name=None, security_context=PodSecurityContext(fs_group=None, fs_group_change_policy=None, run_as_group=71473, run_as_non_root=None, run_as_user=74268, se_linux_options=None, seccomp_profile=None, supplemental_groups=None, sysctls=None, windows_options=None), service_account_name=None, shutdown=None, suspend=None, synchronization=None, template_defaults=None, templates=[Template(active_deadline_seconds=None, affinity=None, archive_location=None, automount_service_account_token=None, container=None, container_set=None, daemon=None, dag=DAGTemplate(fail_fast=None, target=None, tasks=[DAGTask(arguments=Arguments(artifacts=None, parameters=[Parameter(default=None, description=None, enum=None, global_name=None, name='variable', value='{{inputs.parameters.item}}', value_from=None)]), continue_on=None, dependencies=None, depends=None, hooks=None, inline=None, name='inca-download', on_exit=None, template='inca-download', template_ref=None, when=None, with_items=None, with_param=None, with_sequence=None), DAGTask(arguments=Arguments(artifacts=[Artifact(archive=None, archive_logs=None, artifact_gc=None, artifactory=None, azure=None, deleted=None, from_='{{tasks.inca-download.outputs.artifacts.inca-file}}', from_expression=None, gcs=None, git=None, global_name=None, hdfs=None, http=None, mode=None, name='inca-file', optional=None, oss=None, path=None, raw=None, recurse_mode=None, s3=None, sub_path=None)], parameters=[Parameter(default=None, description=None, enum=None, global_name=None, name='variable', value='{{inputs.parameters.item}}', value_from=None)]), continue_on=None, dependencies=None, depends='inca-download', hooks=None, inline=None, name='inca-write', on_exit=None, template='inca-write', template_ref=None, when=None, with_items=None, with_param=None, with_sequence=None)]), data=None, executor=None, fail_fast=None, host_aliases=None, http=None, init_containers=None, inputs=Inputs(artifacts=None, parameters=[Parameter(default=None, description=None, enum=None, global_name=None, name='item', value=None, value_from=None)]), memoize=None, metadata=Metadata(annotations=None, labels=None), metrics=None, name='pipeline', node_selector=None, outputs=Outputs(artifacts=None, exit_code=None, parameters=None, result=None), parallelism=None, plugin=None, pod_spec_patch=None, priority=None, priority_class_name=None, resource=None, retry_strategy=None, scheduler_name=None, script=None, security_context=None, service_account_name=None, sidecars=None, steps=None, suspend=None, synchronization=None, timeout=None, tolerations=None, volumes=None), Template(active_deadline_seconds=None, affinity=None, archive_location=None, automount_service_account_token=None, container=None, container_set=None, daemon=None, dag=None, data=None, executor=None, fail_fast=None, host_aliases=None, http=None, init_containers=None, inputs=Inputs(artifacts=None, parameters=[Parameter(default=None, description=None, enum=None, global_name=None, name='variable', value=None, value_from=None)]), memoize=None, metadata=Metadata(annotations=None, labels=None), metrics=None, name='inca-download', node_selector=None, outputs=Outputs(artifacts=[Artifact(archive=ArchiveStrategy(none=NoneStrategy(), tar=None, zip=None), archive_logs=None, artifact_gc=None, artifactory=None, azure=None, deleted=None, from_=None, from_expression=None, gcs=None, git=None, global_name=None, hdfs=None, http=None, mode=None, name='inca-file', optional=None, oss=None, path='/tmp/INCA.nc', raw=None, recurse_mode=None, s3=None, sub_path=None)], exit_code=None, parameters=None, result=None), parallelism=None, plugin=None, pod_spec_patch=None, priority=None, priority_class_name=None, resource=None, retry_strategy=None, scheduler_name=None, script=ScriptTemplate(args=None, command=['python'], env=None, env_from=None, image='ghcr.io/oscipal/image_zarr:latest', image_pull_policy=None, lifecycle=None, liveness_probe=None, name='', ports=None, readiness_probe=None, resources=ResourceRequirements(limits=None, requests=None), security_context=None, source=\"import os\\nimport sys\\nsys.path.append(os.getcwd())\\nimport json\\ntry: variable = json.loads(r'''{{inputs.parameters.variable}}''')\\nexcept: variable = r'''{{inputs.parameters.variable}}'''\\n\\nfrom urllib.request import urlretrieve\\nimport datetime\\nym = (datetime.date.today() - datetime.timedelta(days=8)).strftime('%Y%m')\\nprint(ym)\\nurl = f'https://public.hub.geosphere.at/datahub/resources/inca-v1-1h-1km/filelisting/{variable}/INCAL_HOURLY_{variable}_{ym}.nc'\\nurlretrieve(url, f'/tmp/INCA.nc')\", startup_probe=None, stdin=None, stdin_once=None, termination_message_path=None, termination_message_policy=None, tty=None, volume_devices=None, volume_mounts=None, working_dir=None), security_context=None, service_account_name=None, sidecars=None, steps=None, suspend=None, synchronization=None, timeout=None, tolerations=None, volumes=None), Template(active_deadline_seconds=None, affinity=None, archive_location=None, automount_service_account_token=None, container=None, container_set=None, daemon=None, dag=None, data=None, executor=None, fail_fast=None, host_aliases=None, http=None, init_containers=None, inputs=Inputs(artifacts=[Artifact(archive=None, archive_logs=None, artifact_gc=None, artifactory=None, azure=None, deleted=None, from_=None, from_expression=None, gcs=None, git=None, global_name=None, hdfs=None, http=None, mode=None, name='inca-file', optional=None, oss=None, path='/tmp/INCA.nc', raw=None, recurse_mode=None, s3=None, sub_path=None)], parameters=[Parameter(default=None, description=None, enum=None, global_name=None, name='variable', value=None, value_from=None), Parameter(default='/eodc/private/openeo_platform/zarr_nacho/INCA_test.zarr', description=None, enum=None, global_name=None, name='store_path', value=None, value_from=None)]), memoize=None, metadata=Metadata(annotations=None, labels=None), metrics=None, name='inca-write', node_selector=None, outputs=Outputs(artifacts=None, exit_code=None, parameters=None, result=None), parallelism=None, plugin=None, pod_spec_patch=None, priority=None, priority_class_name=None, resource=None, retry_strategy=None, scheduler_name=None, script=ScriptTemplate(args=None, command=['python'], env=None, env_from=None, image='ghcr.io/oscipal/image_zarr:latest', image_pull_policy=None, lifecycle=None, liveness_probe=None, name='', ports=None, readiness_probe=None, resources=ResourceRequirements(limits=None, requests=None), security_context=None, source=\"import os\\nimport sys\\nsys.path.append(os.getcwd())\\nimport json\\ntry: store_path = json.loads(r'''{{inputs.parameters.store_path}}''')\\nexcept: store_path = r'''{{inputs.parameters.store_path}}'''\\ntry: variable = json.loads(r'''{{inputs.parameters.variable}}''')\\nexcept: variable = r'''{{inputs.parameters.variable}}'''\\n\\nimport xarray as xr\\nimport numpy as np\\nimport zarr\\nartifact_path = f'/tmp/INCA.nc'\\n\\ndef get_idx(array1, array2):\\n    min_idx = np.where(array1 == array2[0])[0][0]\\n    max_idx = np.where(array1 == array2[-1])[0][0] + 1\\n    return (min_idx, max_idx)\\ndata = xr.open_dataset(artifact_path, mask_and_scale=False).load()\\nstore = zarr.storage.LocalStore(store_path)\\ngroup = zarr.group(store=store)\\nx_extent = group['x'][:]\\ny_extent = group['y'][:]\\nx_min, x_max = get_idx(x_extent, data['x'].values)\\ny_min, y_max = get_idx(y_extent, data['y'].values)\\norigin = np.datetime64('2011-03-15T00:00:00').astype('datetime64[h]')\\ntime_min, time_max = (data.time.values[0].astype('datetime64[h]'), data.time.values[-1].astype('datetime64[h]') + 1)\\ntime_delta_min, time_delta_max = ((time_min - origin).astype('int64'), (time_max - origin).astype('int64'))\\ngroup[variable][time_delta_min:time_delta_max, y_min:y_max, x_min:x_max] = data[variable].values\", startup_probe=None, stdin=None, stdin_once=None, termination_message_path=None, termination_message_policy=None, tty=None, volume_devices=None, volume_mounts=[VolumeMount(mount_path='/eodc', mount_propagation=None, name='eodc-mount', read_only=None, sub_path=None, sub_path_expr=None)], working_dir=None), security_context=None, service_account_name=None, sidecars=None, steps=None, suspend=None, synchronization=None, timeout=None, tolerations=None, volumes=None), Template(active_deadline_seconds=None, affinity=None, archive_location=None, automount_service_account_token=None, container=None, container_set=None, daemon=None, dag=None, data=None, executor=None, fail_fast=None, host_aliases=None, http=None, init_containers=None, inputs=Inputs(artifacts=None, parameters=None), memoize=None, metadata=Metadata(annotations=None, labels=None), metrics=None, name='workflow', node_selector=None, outputs=Outputs(artifacts=None, exit_code=None, parameters=None, result=None), parallelism=None, plugin=None, pod_spec_patch=None, priority=None, priority_class_name=None, resource=None, retry_strategy=None, scheduler_name=None, script=None, security_context=None, service_account_name=None, sidecars=None, steps=[ParallelSteps(__root__=[WorkflowStep(arguments=Arguments(artifacts=None, parameters=None), continue_on=None, hooks=None, inline=None, name='add-timestamps2zarr', on_exit=None, template='add-timestamps2zarr', template_ref=None, when=None, with_items=None, with_param=None, with_sequence=None)]), ParallelSteps(__root__=[WorkflowStep(arguments=Arguments(artifacts=None, parameters=[Parameter(default=None, description=None, enum=None, global_name=None, name='item', value='{{item}}', value_from=None)]), continue_on=None, hooks=None, inline=None, name='parallel-pipelines', on_exit=None, template='pipeline', template_ref=None, when=None, with_items=None, with_param='[\"RR\", \"T2M\", \"TD2M\", \"P0\", \"UU\", \"VV\", \"RH2M\", \"GL\"]', with_sequence=None)])], suspend=None, synchronization=None, timeout=None, tolerations=None, volumes=None), Template(active_deadline_seconds=None, affinity=None, archive_location=None, automount_service_account_token=None, container=None, container_set=None, daemon=None, dag=None, data=None, executor=None, fail_fast=None, host_aliases=None, http=None, init_containers=None, inputs=Inputs(artifacts=None, parameters=[Parameter(default='/eodc/private/openeo_platform/zarr_nacho/INCA_test.zarr', description=None, enum=None, global_name=None, name='store_path', value=None, value_from=None)]), memoize=None, metadata=Metadata(annotations=None, labels=None), metrics=None, name='add-timestamps2zarr', node_selector=None, outputs=Outputs(artifacts=None, exit_code=None, parameters=None, result=None), parallelism=None, plugin=None, pod_spec_patch=None, priority=None, priority_class_name=None, resource=None, retry_strategy=None, scheduler_name=None, script=ScriptTemplate(args=None, command=['python'], env=None, env_from=None, image='ghcr.io/oscipal/image_zarr:latest', image_pull_policy=None, lifecycle=None, liveness_probe=None, name='', ports=None, readiness_probe=None, resources=ResourceRequirements(limits=None, requests=None), security_context=None, source=\"import os\\nimport sys\\nsys.path.append(os.getcwd())\\nimport json\\ntry: store_path = json.loads(r'''{{inputs.parameters.store_path}}''')\\nexcept: store_path = r'''{{inputs.parameters.store_path}}'''\\n\\nimport datetime\\nimport numpy as np\\nimport zarr\\nnow = datetime.datetime.now()\\nnow_np = np.datetime64(now).astype('datetime64[h]')\\norigin = np.datetime64('2011-03-15T00:00:00').astype('datetime64[h]')\\nnew_shape = int((now_np - origin).astype(int))\\nnew_extent = np.arange(0, new_shape, 1)\\nstore = zarr.storage.LocalStore(store_path)\\ngroup = zarr.group(store=store)\\narray_names = set(group.array_keys())\\ncoords = {'time', 'x', 'y'}\\ndata_arrays = array_names - coords\\ngroup['time'].resize(new_shape)\\nfor array in data_arrays:\\n    group_shape = group[array].shape\\n    group[array].resize((new_shape, group_shape[1], group_shape[2]))\\nzarr.consolidate_metadata(store)\\nstore = zarr.storage.LocalStore(store_path)\\ngroup = zarr.group(store=store)\\ngroup['time'][:] = new_extent\", startup_probe=None, stdin=None, stdin_once=None, termination_message_path=None, termination_message_policy=None, tty=None, volume_devices=None, volume_mounts=[VolumeMount(mount_path='/eodc', mount_propagation=None, name='eodc-mount', read_only=None, sub_path=None, sub_path_expr=None)], working_dir=None), security_context=None, service_account_name=None, sidecars=None, steps=None, suspend=None, synchronization=None, timeout=None, tolerations=None, volumes=None)], tolerations=None, ttl_strategy=None, volume_claim_gc=None, volume_claim_templates=None, volumes=[Volume(aws_elastic_block_store=None, azure_disk=None, azure_file=None, cephfs=None, cinder=None, config_map=None, csi=None, downward_api=None, empty_dir=None, ephemeral=None, fc=None, flex_volume=None, flocker=None, gce_persistent_disk=None, git_repo=None, glusterfs=None, host_path=None, iscsi=None, name='eodc-mount', nfs=None, persistent_volume_claim=PersistentVolumeClaimVolumeSource(claim_name='eodc-nfs-claim', read_only=None), photon_persistent_disk=None, portworx_volume=None, projected=None, quobyte=None, rbd=None, scale_io=None, secret=None, storageos=None, vsphere_volume=None)], workflow_metadata=None, workflow_template_ref=None)), status=CronWorkflowStatus(active=None, conditions=None, last_scheduled_time=None))"
      ]
     },
     "execution_count": 309,
     "metadata": {},
     "output_type": "execute_result"
    }
   ],
   "source": [
    "w.create()"
   ]
  }
 ],
 "metadata": {
  "kernelspec": {
   "display_name": "zarr",
   "language": "python",
   "name": "python3"
  },
  "language_info": {
   "codemirror_mode": {
    "name": "ipython",
    "version": 3
   },
   "file_extension": ".py",
   "mimetype": "text/x-python",
   "name": "python",
   "nbconvert_exporter": "python",
   "pygments_lexer": "ipython3",
   "version": "3.11.4"
  }
 },
 "nbformat": 4,
 "nbformat_minor": 5
}
