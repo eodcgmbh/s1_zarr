{
 "cells": [
  {
   "cell_type": "code",
   "execution_count": null,
   "id": "e94c6f42",
   "metadata": {},
   "outputs": [],
   "source": [
    "from dotenv import load_dotenv\n",
    "import os\n",
    "from hera.workflows import EmptyDirVolume, models, script, Artifact, Parameter, DAG, Steps, Step, NoneArchiveStrategy, Workflow, Container\n",
    "from hera.shared import global_config\n",
    "\n",
    "load_dotenv(\"/home/otto/s1_zarr/.env\")"
   ]
  },
  {
   "cell_type": "code",
   "execution_count": null,
   "id": "2b51fa61",
   "metadata": {},
   "outputs": [],
   "source": [
    "global_config.host = \"https://dev.services.eodc.eu/workflows/\"\n",
    "global_config.namespace = \"inca\"\n",
    "global_config.token = os.getenv(\"argo_token\")\n",
    "global_config.image = \"ghcr.io/oscipal/image_zarr:latest\""
   ]
  },
  {
   "cell_type": "code",
   "execution_count": null,
   "id": "31b3fef9",
   "metadata": {},
   "outputs": [],
   "source": [
    "echo = Container(name=\"write-message\",\n",
    "                command=[\"python\", \"write.py\"],\n",
    "                args=[\"{{inputs.parameters.message}}\"],\n",
    "                inputs=[Parameter(name=\"message\")])"
   ]
  },
  {
   "cell_type": "code",
   "execution_count": null,
   "id": "87b19dfd",
   "metadata": {},
   "outputs": [],
   "source": [
    "with Workflow(\n",
    "    generate_name=\"using-image-functions-\",\n",
    "    entrypoint=\"workflow\"\n",
    ") as w:\n",
    "    with DAG(name=\"workflow\"):\n",
    "        msg1 = echo(name=\"msg1\", arguments={\"message\": \"Hello hera!\"})\n",
    "        msg2 = echo(name=\"msg2\", arguments={\"message\": \"Goodbye hera!\"})\n",
    "\n",
    "        msg1 >> msg2"
   ]
  },
  {
   "cell_type": "code",
   "execution_count": null,
   "id": "c714c3aa",
   "metadata": {},
   "outputs": [],
   "source": [
    "w.create()"
   ]
  }
 ],
 "metadata": {
  "kernelspec": {
   "display_name": "zarr",
   "language": "python",
   "name": "python3"
  },
  "language_info": {
   "codemirror_mode": {
    "name": "ipython",
    "version": 3
   },
   "file_extension": ".py",
   "mimetype": "text/x-python",
   "name": "python",
   "nbconvert_exporter": "python",
   "pygments_lexer": "ipython3",
   "version": "3.11.4"
  }
 },
 "nbformat": 4,
 "nbformat_minor": 5
}
