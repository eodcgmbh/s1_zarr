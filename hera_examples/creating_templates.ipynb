{
 "cells": [
  {
   "cell_type": "code",
   "execution_count": null,
   "id": "d5468aff",
   "metadata": {},
   "outputs": [],
   "source": [
    "from dotenv import load_dotenv\n",
    "import os\n",
    "from hera.workflows import Task, EmptyDirVolume, models, script, Artifact, Parameter, DAG, Steps, Step, NoneArchiveStrategy, Workflow, WorkflowTemplate\n",
    "from hera.workflows.models import TemplateRef\n",
    "from hera.shared import global_config\n",
    "\n",
    "load_dotenv(\"/home/otto/s1_zarr/.env\")"
   ]
  },
  {
   "cell_type": "code",
   "execution_count": null,
   "id": "089ff66c",
   "metadata": {},
   "outputs": [],
   "source": [
    "global_config.host = \"https://dev.services.eodc.eu/workflows/\"\n",
    "global_config.namespace = \"inca\"\n",
    "global_config.token = os.getenv(\"argo_token\")\n",
    "global_config.image = \"ghcr.io/oscipal/image_zarr:latest\""
   ]
  },
  {
   "cell_type": "code",
   "execution_count": null,
   "id": "1fdd3cd8",
   "metadata": {},
   "outputs": [],
   "source": [
    "@script()\n",
    "def write_message(message):\n",
    "    print(message)"
   ]
  },
  {
   "cell_type": "code",
   "execution_count": null,
   "id": "d1d10558",
   "metadata": {},
   "outputs": [],
   "source": [
    "@script()\n",
    "def echo_message(message):\n",
    "    print(f\"echo of {message}\")"
   ]
  },
  {
   "cell_type": "code",
   "execution_count": null,
   "id": "8c6766ff",
   "metadata": {},
   "outputs": [],
   "source": [
    "with WorkflowTemplate(\n",
    "    name=\"write-message-template\",\n",
    "    entrypoint=\"workflow\"\n",
    ") as wt:\n",
    "    with DAG(name=\"workflow\"):\n",
    "        step1 = write_message(arguments={\"message\": \"Hello hera!\"})\n",
    "        step2 = echo_message(arguments={\"message\": step1.result})\n",
    "\n",
    "        step1 >> step2"
   ]
  },
  {
   "cell_type": "code",
   "execution_count": null,
   "id": "b3a5f420",
   "metadata": {},
   "outputs": [],
   "source": [
    "wt.create()"
   ]
  },
  {
   "cell_type": "code",
   "execution_count": null,
   "id": "7d9b8ce3",
   "metadata": {},
   "outputs": [],
   "source": [
    "with Workflow(\n",
    "    generate_name=\"use-template-\",\n",
    "    entrypoint=\"workflow\"\n",
    ") as w:\n",
    "    with DAG(name=\"workflow\"):\n",
    "        step1 = Task(name=\"using-template\", template_ref=TemplateRef(name=\"write-message-template\", template=\"workflow\"))"
   ]
  },
  {
   "cell_type": "code",
   "execution_count": null,
   "id": "2b97c82f",
   "metadata": {},
   "outputs": [],
   "source": [
    "w.create()"
   ]
  },
  {
   "cell_type": "code",
   "execution_count": null,
   "id": "b3cc8297",
   "metadata": {},
   "outputs": [],
   "source": []
  }
 ],
 "metadata": {
  "kernelspec": {
   "display_name": "zarr",
   "language": "python",
   "name": "python3"
  },
  "language_info": {
   "codemirror_mode": {
    "name": "ipython",
    "version": 3
   },
   "file_extension": ".py",
   "mimetype": "text/x-python",
   "name": "python",
   "nbconvert_exporter": "python",
   "pygments_lexer": "ipython3",
   "version": "3.11.4"
  }
 },
 "nbformat": 4,
 "nbformat_minor": 5
}
