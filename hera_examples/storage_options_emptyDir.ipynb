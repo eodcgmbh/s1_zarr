{
 "cells": [
  {
   "cell_type": "code",
   "execution_count": null,
   "id": "40cc8543",
   "metadata": {},
   "outputs": [],
   "source": [
    "from dotenv import load_dotenv\n",
    "import os\n",
    "from hera.workflows import EmptyDirVolume, models, script, Artifact, Parameter, DAG, Steps, Step, NoneArchiveStrategy, Workflow\n",
    "from hera.shared import global_config\n",
    "\n",
    "load_dotenv(\"/home/otto/s1_zarr/.env\")"
   ]
  },
  {
   "cell_type": "code",
   "execution_count": null,
   "id": "1ccebdca",
   "metadata": {},
   "outputs": [],
   "source": [
    "global_config.host = \"https://dev.services.eodc.eu/workflows/\"\n",
    "global_config.namespace = \"inca\"\n",
    "global_config.token = os.getenv(\"argo_token\")\n",
    "global_config.image = \"ghcr.io/oscipal/image_zarr:latest\""
   ]
  },
  {
   "cell_type": "code",
   "execution_count": null,
   "id": "30b3dca5",
   "metadata": {},
   "outputs": [],
   "source": [
    "empty_dir = [models.Volume(name=\"emptydir\", empty_dir=models.EmptyDirVolumeSource())]"
   ]
  },
  {
   "cell_type": "code",
   "execution_count": null,
   "id": "e6d4a1da",
   "metadata": {},
   "outputs": [],
   "source": [
    "@script(volume_mounts=[models.VolumeMount(name=\"emptydir\", mount_path=\"/mnt/vol/\")])\n",
    "def download_and_use():\n",
    "    from urllib.request import urlretrieve\n",
    "    import datetime\n",
    "    import os\n",
    "    import xarray as xr\n",
    "\n",
    "    mount_path = \"/mnt/vol/\"\n",
    "\n",
    "    url = f\"https://public.hub.geosphere.at/datahub/resources/inca-v1-1h-1km/filelisting/RR/INCAL_HOURLY_RR_202506.nc\"\n",
    "    urlretrieve(url, os.path.join(mount_path, \"INCA.nc\"))\n",
    "\n",
    "    ds = xr.open_dataset(os.path.join(mount_path, \"INCA.nc\")).isel(time=1, x=1, y=1)[\"RR\"].load()\n",
    "    print(ds.values)"
   ]
  },
  {
   "cell_type": "code",
   "execution_count": null,
   "id": "04de5ae2",
   "metadata": {},
   "outputs": [],
   "source": [
    "with Workflow(\n",
    "    generate_name=\"empty-dir-\",\n",
    "    volumes = empty_dir,\n",
    "    entrypoint=\"workflow\"\n",
    ") as w:\n",
    "    with DAG(name=\"workflow\"):\n",
    "        download_and_use()"
   ]
  },
  {
   "cell_type": "code",
   "execution_count": null,
   "id": "9cfd28d6",
   "metadata": {},
   "outputs": [],
   "source": [
    "w.create()"
   ]
  }
 ],
 "metadata": {
  "kernelspec": {
   "display_name": "zarr",
   "language": "python",
   "name": "python3"
  },
  "language_info": {
   "codemirror_mode": {
    "name": "ipython",
    "version": 3
   },
   "file_extension": ".py",
   "mimetype": "text/x-python",
   "name": "python",
   "nbconvert_exporter": "python",
   "pygments_lexer": "ipython3",
   "version": "3.11.4"
  }
 },
 "nbformat": 4,
 "nbformat_minor": 5
}
