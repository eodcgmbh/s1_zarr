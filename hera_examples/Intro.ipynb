{
 "cells": [
  {
   "cell_type": "code",
   "execution_count": null,
   "id": "f6570be3",
   "metadata": {},
   "outputs": [],
   "source": [
    "from dotenv import load_dotenv\n",
    "import os\n",
    "from hera.workflows import Task, CronWorkflow, script, Task, Parameter, DAG, Steps, Step, NoneArchiveStrategy, Workflow\n",
    "from hera.shared import global_config\n",
    "\n",
    "load_dotenv(\"/home/otto/s1_zarr/.env\")"
   ]
  },
  {
   "cell_type": "code",
   "execution_count": null,
   "id": "6d0398fd",
   "metadata": {},
   "outputs": [],
   "source": [
    "global_config.host = \"https://dev.services.eodc.eu/workflows/\"\n",
    "global_config.namespace = \"inca\"\n",
    "global_config.token = os.getenv(\"argo_token\")\n",
    "global_config.image = \"ghcr.io/oscipal/image_zarr:latest\""
   ]
  },
  {
   "cell_type": "code",
   "execution_count": null,
   "id": "f1864ab7",
   "metadata": {},
   "outputs": [],
   "source": [
    "@script()\n",
    "def hello_hera(message):\n",
    "    print(message)"
   ]
  },
  {
   "cell_type": "code",
   "execution_count": null,
   "id": "3c40bbdb",
   "metadata": {},
   "outputs": [],
   "source": [
    "with Workflow(\n",
    "    generate_name = \"hello-hera-\",\n",
    "    entrypoint = \"first-steps\"\n",
    ") as w:\n",
    "    with DAG(name=\"first-steps\"):\n",
    "        first = hello_hera(name=\"hello\", arguments={\"message\": \"Hello hera!\"})\n",
    "        \n",
    "        second_1 = hello_hera(name=\"parallel1\", arguments={\"message\": \"This message gets printed in parallel.\"})\n",
    "        second_2 = hello_hera(name=\"parallel2\", arguments={\"message\": \"This message gets printed in parallel.\"})\n",
    "\n",
    "        last = hello_hera(name=\"goodbye\", arguments={\"message\": \"Goodbye hera!\"})\n",
    "\n",
    "        first >> [second_1, second_2] >> last"
   ]
  },
  {
   "cell_type": "code",
   "execution_count": null,
   "id": "82d61922",
   "metadata": {},
   "outputs": [],
   "source": [
    "w.create()"
   ]
  },
  {
   "cell_type": "code",
   "execution_count": null,
   "id": "0ab6b7c9",
   "metadata": {},
   "outputs": [],
   "source": []
  }
 ],
 "metadata": {
  "kernelspec": {
   "display_name": "zarr",
   "language": "python",
   "name": "python3"
  },
  "language_info": {
   "codemirror_mode": {
    "name": "ipython",
    "version": 3
   },
   "file_extension": ".py",
   "mimetype": "text/x-python",
   "name": "python",
   "nbconvert_exporter": "python",
   "pygments_lexer": "ipython3",
   "version": "3.11.4"
  }
 },
 "nbformat": 4,
 "nbformat_minor": 5
}
