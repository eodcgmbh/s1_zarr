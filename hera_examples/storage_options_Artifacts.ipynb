{
 "cells": [
  {
   "cell_type": "code",
   "execution_count": 8,
   "id": "e2f633e7",
   "metadata": {},
   "outputs": [
    {
     "data": {
      "text/plain": [
       "True"
      ]
     },
     "execution_count": 8,
     "metadata": {},
     "output_type": "execute_result"
    }
   ],
   "source": [
    "from dotenv import load_dotenv\n",
    "import os\n",
    "from hera.workflows import EmptyDirVolume, models, script, Artifact, Parameter, DAG, Steps, Step, NoneArchiveStrategy, Workflow\n",
    "from hera.shared import global_config\n",
    "\n",
    "load_dotenv(\"/home/otto/s1_zarr/.env\")"
   ]
  },
  {
   "cell_type": "code",
   "execution_count": 9,
   "id": "8301edb2",
   "metadata": {},
   "outputs": [],
   "source": [
    "global_config.host = \"https://dev.services.eodc.eu/workflows/\"\n",
    "global_config.namespace = \"inca\"\n",
    "global_config.token = os.getenv(\"argo_token\")\n",
    "global_config.image = \"ghcr.io/oscipal/image_zarr:latest\""
   ]
  },
  {
   "cell_type": "code",
   "execution_count": 10,
   "id": "802bf36e",
   "metadata": {},
   "outputs": [],
   "source": [
    "@script(outputs=Artifact(name=\"output-artifact\", path=\"/tmp/INCA.nc\", archive=NoneArchiveStrategy()))\n",
    "def create_artifact():\n",
    "    from urllib.request import urlretrieve\n",
    "    import datetime\n",
    "    import os \n",
    "\n",
    "    artifact_path = \"/tmp\"\n",
    "\n",
    "    url = f\"https://public.hub.geosphere.at/datahub/resources/inca-v1-1h-1km/filelisting/RR/INCAL_HOURLY_RR_202506.nc\"\n",
    "    urlretrieve(url, os.path.join(artifact_path, \"INCA.nc\"))"
   ]
  },
  {
   "cell_type": "code",
   "execution_count": null,
   "id": "59b94e62",
   "metadata": {},
   "outputs": [],
   "source": [
    "@script(inputs=Artifact(name=\"input-artifact\", path=\"/tmp/INCA.nc\"))\n",
    "def consume_artifact():\n",
    "    import xarray as xr\n",
    "\n",
    "    artifact_path=\"/tmp/INCA.nc\"\n",
    "\n",
    "    ds = xr.open_dataset(os.path.join(artifact_path, \"INCA.nc\")).isel(time=1, x=1, y=1)[\"RR\"].load()\n",
    "    print(ds.values)"
   ]
  },
  {
   "cell_type": "code",
   "execution_count": 43,
   "id": "dfcb3269",
   "metadata": {},
   "outputs": [],
   "source": [
    "with Workflow(\n",
    "    generate_name=\"artifact-storage-\",\n",
    "    entrypoint=\"workflow\"\n",
    ") as w:\n",
    "    with DAG(name=\"workflow\"):\n",
    "        download = create_artifact()\n",
    "        consume = consume_artifact(arguments=[download.get_artifact(\"output-artifact\").with_name(\"input-artifact\")])\n",
    "\n",
    "        download >> consume"
   ]
  },
  {
   "cell_type": "code",
   "execution_count": 44,
   "id": "4e4731fa",
   "metadata": {},
   "outputs": [
    {
     "data": {
      "text/plain": [
       "Workflow(api_version=None, kind=None, metadata=ObjectMeta(annotations=None, cluster_name=None, creation_timestamp=Time(__root__=datetime.datetime(2025, 7, 24, 9, 16, 44, tzinfo=datetime.timezone.utc)), deletion_grace_period_seconds=None, deletion_timestamp=None, finalizers=None, generate_name='artifact-storage-', generation=1, labels={'workflows.argoproj.io/creator': 'system-serviceaccount-default-jenkins'}, managed_fields=[ManagedFieldsEntry(api_version='argoproj.io/v1alpha1', fields_type='FieldsV1', fields_v1=FieldsV1(), manager='argo', operation='Update', subresource=None, time=Time(__root__=datetime.datetime(2025, 7, 24, 9, 16, 44, tzinfo=datetime.timezone.utc)))], name='artifact-storage-hm5w6', namespace='inca', owner_references=None, resource_version='315382741', self_link=None, uid='a5aa2bda-11e2-4d23-87cc-0abadd75d8b0'), spec=WorkflowSpec(active_deadline_seconds=None, affinity=None, archive_logs=None, arguments=Arguments(artifacts=None, parameters=None), artifact_gc=None, artifact_repository_ref=None, automount_service_account_token=None, dns_config=None, dns_policy=None, entrypoint='workflow', executor=None, hooks=None, host_aliases=None, host_network=None, image_pull_secrets=None, metrics=None, node_selector=None, on_exit=None, parallelism=None, pod_disruption_budget=None, pod_gc=None, pod_metadata=None, pod_priority=None, pod_priority_class_name=None, pod_spec_patch=None, priority=None, retry_strategy=None, scheduler_name=None, security_context=None, service_account_name=None, shutdown=None, suspend=None, synchronization=None, template_defaults=None, templates=[Template(active_deadline_seconds=None, affinity=None, archive_location=None, automount_service_account_token=None, container=None, container_set=None, daemon=None, dag=DAGTemplate(fail_fast=None, target=None, tasks=[DAGTask(arguments=Arguments(artifacts=None, parameters=None), continue_on=None, dependencies=None, depends=None, hooks=None, inline=None, name='create-artifact', on_exit=None, template='create-artifact', template_ref=None, when=None, with_items=None, with_param=None, with_sequence=None), DAGTask(arguments=Arguments(artifacts=[Artifact(archive=None, archive_logs=None, artifact_gc=None, artifactory=None, azure=None, deleted=None, from_='{{tasks.create-artifact.outputs.artifacts.output-artifact}}', from_expression=None, gcs=None, git=None, global_name=None, hdfs=None, http=None, mode=None, name='input-artifact', optional=None, oss=None, path=None, raw=None, recurse_mode=None, s3=None, sub_path=None)], parameters=None), continue_on=None, dependencies=None, depends='create-artifact', hooks=None, inline=None, name='consume-artifact', on_exit=None, template='consume-artifact', template_ref=None, when=None, with_items=None, with_param=None, with_sequence=None)]), data=None, executor=None, fail_fast=None, host_aliases=None, http=None, init_containers=None, inputs=Inputs(artifacts=None, parameters=None), memoize=None, metadata=Metadata(annotations=None, labels=None), metrics=None, name='workflow', node_selector=None, outputs=Outputs(artifacts=None, exit_code=None, parameters=None, result=None), parallelism=None, plugin=None, pod_spec_patch=None, priority=None, priority_class_name=None, resource=None, retry_strategy=None, scheduler_name=None, script=None, security_context=None, service_account_name=None, sidecars=None, steps=None, suspend=None, synchronization=None, timeout=None, tolerations=None, volumes=None), Template(active_deadline_seconds=None, affinity=None, archive_location=None, automount_service_account_token=None, container=None, container_set=None, daemon=None, dag=None, data=None, executor=None, fail_fast=None, host_aliases=None, http=None, init_containers=None, inputs=Inputs(artifacts=None, parameters=None), memoize=None, metadata=Metadata(annotations=None, labels=None), metrics=None, name='create-artifact', node_selector=None, outputs=Outputs(artifacts=[Artifact(archive=ArchiveStrategy(none=NoneStrategy(), tar=None, zip=None), archive_logs=None, artifact_gc=None, artifactory=None, azure=None, deleted=None, from_=None, from_expression=None, gcs=None, git=None, global_name=None, hdfs=None, http=None, mode=None, name='output-artifact', optional=None, oss=None, path='/tmp/INCA.nc', raw=None, recurse_mode=None, s3=None, sub_path=None)], exit_code=None, parameters=None, result=None), parallelism=None, plugin=None, pod_spec_patch=None, priority=None, priority_class_name=None, resource=None, retry_strategy=None, scheduler_name=None, script=ScriptTemplate(args=None, command=['python'], env=None, env_from=None, image='ghcr.io/oscipal/image_zarr:latest', image_pull_policy=None, lifecycle=None, liveness_probe=None, name='', ports=None, readiness_probe=None, resources=ResourceRequirements(limits=None, requests=None), security_context=None, source=\"import os\\nimport sys\\nsys.path.append(os.getcwd())\\nfrom urllib.request import urlretrieve\\nimport datetime\\nimport os\\nartifact_path = '/tmp'\\nurl = f'https://public.hub.geosphere.at/datahub/resources/inca-v1-1h-1km/filelisting/RR/INCAL_HOURLY_RR_202506.nc'\\nurlretrieve(url, os.path.join(artifact_path, 'INCA.nc'))\", startup_probe=None, stdin=None, stdin_once=None, termination_message_path=None, termination_message_policy=None, tty=None, volume_devices=None, volume_mounts=None, working_dir=None), security_context=None, service_account_name=None, sidecars=None, steps=None, suspend=None, synchronization=None, timeout=None, tolerations=None, volumes=None), Template(active_deadline_seconds=None, affinity=None, archive_location=None, automount_service_account_token=None, container=None, container_set=None, daemon=None, dag=None, data=None, executor=None, fail_fast=None, host_aliases=None, http=None, init_containers=None, inputs=Inputs(artifacts=[Artifact(archive=None, archive_logs=None, artifact_gc=None, artifactory=None, azure=None, deleted=None, from_=None, from_expression=None, gcs=None, git=None, global_name=None, hdfs=None, http=None, mode=None, name='input-artifact', optional=None, oss=None, path='/tmp/INCA.nc', raw=None, recurse_mode=None, s3=None, sub_path=None)], parameters=None), memoize=None, metadata=Metadata(annotations=None, labels=None), metrics=None, name='consume-artifact', node_selector=None, outputs=Outputs(artifacts=None, exit_code=None, parameters=None, result=None), parallelism=None, plugin=None, pod_spec_patch=None, priority=None, priority_class_name=None, resource=None, retry_strategy=None, scheduler_name=None, script=ScriptTemplate(args=None, command=['python'], env=None, env_from=None, image='ghcr.io/oscipal/image_zarr:latest', image_pull_policy=None, lifecycle=None, liveness_probe=None, name='', ports=None, readiness_probe=None, resources=ResourceRequirements(limits=None, requests=None), security_context=None, source=\"import os\\nimport sys\\nsys.path.append(os.getcwd())\\nimport xarray as xr\\nimport netCDF4\\nartifact_path = '/tmp/INCA.nc'\\nds = xr.open_dataset(os.path.join(artifact_path, 'INCA.nc')).isel(time=1, x=1, y=1)['RR'].load()\\nprint(ds.values)\", startup_probe=None, stdin=None, stdin_once=None, termination_message_path=None, termination_message_policy=None, tty=None, volume_devices=None, volume_mounts=None, working_dir=None), security_context=None, service_account_name=None, sidecars=None, steps=None, suspend=None, synchronization=None, timeout=None, tolerations=None, volumes=None)], tolerations=None, ttl_strategy=None, volume_claim_gc=None, volume_claim_templates=None, volumes=None, workflow_metadata=None, workflow_template_ref=None), status=WorkflowStatus(artifact_gc_status=None, artifact_repository_ref=None, compressed_nodes=None, conditions=None, estimated_duration=None, finished_at=None, message=None, nodes=None, offload_node_status_version=None, outputs=None, persistent_volume_claims=None, phase=None, progress=None, resources_duration=None, started_at=None, stored_templates=None, stored_workflow_template_spec=None, synchronization=None, task_results_completion_status=None))"
      ]
     },
     "execution_count": 44,
     "metadata": {},
     "output_type": "execute_result"
    }
   ],
   "source": [
    "w.create()"
   ]
  }
 ],
 "metadata": {
  "kernelspec": {
   "display_name": "zarr",
   "language": "python",
   "name": "python3"
  },
  "language_info": {
   "codemirror_mode": {
    "name": "ipython",
    "version": 3
   },
   "file_extension": ".py",
   "mimetype": "text/x-python",
   "name": "python",
   "nbconvert_exporter": "python",
   "pygments_lexer": "ipython3",
   "version": "3.11.4"
  }
 },
 "nbformat": 4,
 "nbformat_minor": 5
}
