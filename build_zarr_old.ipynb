{
 "cells": [
  {
   "cell_type": "markdown",
   "id": "16fef53c",
   "metadata": {},
   "source": [
    "## Building a zarr store from Sentinel-1 sigma0 COGs"
   ]
  },
  {
   "cell_type": "markdown",
   "id": "7f815307",
   "metadata": {},
   "source": [
    "### Necessary imports"
   ]
  },
  {
   "cell_type": "code",
   "execution_count": 1,
   "id": "afbac5b6",
   "metadata": {},
   "outputs": [],
   "source": [
    "import zarr\n",
    "import tifffile\n",
    "import numpy as np\n",
    "import pystac_client as pc\n",
    "import xarray as xr\n",
    "import stackstac\n",
    "from pyproj import CRS\n",
    "from dask.distributed import LocalCluster\n",
    "import os\n",
    "import dask.array as da\n",
    "from dask.diagnostics import ProgressBar\n",
    "from numcodecs import Blosc\n",
    "import rasterio\n",
    "import rioxarray\n",
    "import pandas as pd\n",
    "import warnings\n",
    "from datetime import datetime\n",
    "#os.environ[\"ZARR_V3_EXPERIMENTAL_API\"] = \"1\""
   ]
  },
  {
   "cell_type": "code",
   "execution_count": null,
   "id": "7b8d7df0",
   "metadata": {},
   "outputs": [],
   "source": [
    "warnings.filterwarnings(\"ignore\")"
   ]
  },
  {
   "cell_type": "code",
   "execution_count": null,
   "id": "75bd5a21",
   "metadata": {},
   "outputs": [],
   "source": [
    "def lookup(arr1, arr2):\n",
    "    '''\n",
    "    Get Index of values from arr2 in arr1\n",
    "    '''\n",
    "    lookup = {val: idx for idx, val in enumerate(arr1)}\n",
    "    indices = np.array([lookup.get(val, np.nan) for val in arr2])\n",
    "\n",
    "    return indices"
   ]
  },
  {
   "cell_type": "code",
   "execution_count": null,
   "id": "81648b2c",
   "metadata": {},
   "outputs": [],
   "source": [
    "def get_idx(array, value):\n",
    "    return np.where(array==value)[0][0]"
   ]
  },
  {
   "cell_type": "code",
   "execution_count": null,
   "id": "7354b365",
   "metadata": {},
   "outputs": [],
   "source": [
    "def load_data(item, pol):\n",
    "    return rioxarray.open_rasterio(item.assets[pol].href).load().expand_dims(time=pd.to_datetime([item.properties[\"datetime\"]]).tz_convert(None))"
   ]
  },
  {
   "cell_type": "markdown",
   "id": "d304573a",
   "metadata": {},
   "source": [
    "Start Local Cluster Client"
   ]
  },
  {
   "cell_type": "code",
   "execution_count": null,
   "id": "ed57d23d",
   "metadata": {},
   "outputs": [],
   "source": [
    "#client.shutdown()"
   ]
  },
  {
   "cell_type": "code",
   "execution_count": null,
   "id": "d82994ee",
   "metadata": {},
   "outputs": [],
   "source": [
    "client = LocalCluster().get_client()\n",
    "client.dashboard_link"
   ]
  },
  {
   "cell_type": "markdown",
   "id": "96a9c2e7",
   "metadata": {},
   "source": [
    "### STAC Client"
   ]
  },
  {
   "cell_type": "markdown",
   "id": "3a045938",
   "metadata": {},
   "source": [
    "Get Data from STAC, query by Tile and Month"
   ]
  },
  {
   "cell_type": "code",
   "execution_count": null,
   "id": "a4c55330",
   "metadata": {},
   "outputs": [],
   "source": [
    "pc_client = pc.Client.open(\"https://stac.eodc.eu/api/v1\")\n",
    "time_range = \"2024-01-01/2024-02-01\"\n",
    "bbox_aut = [16, 46, 18, 49]"
   ]
  },
  {
   "cell_type": "code",
   "execution_count": null,
   "id": "11bb0f83",
   "metadata": {},
   "outputs": [],
   "source": [
    "search = pc_client.search(\n",
    "    collections=[\"SENTINEL1_SIG0_20M\"],\n",
    "    datetime=time_range,\n",
    "    #bbox = bbox_aut\n",
    "    query={\"Equi7_TileID\": {\"eq\": \"EU020M_E051N015T3\"}}\n",
    ")"
   ]
  },
  {
   "cell_type": "code",
   "execution_count": null,
   "id": "d610a5ec",
   "metadata": {},
   "outputs": [],
   "source": [
    "items_eodc = search.item_collection()\n",
    "items_eodc"
   ]
  },
  {
   "cell_type": "code",
   "execution_count": null,
   "id": "631a1ef7",
   "metadata": {},
   "outputs": [],
   "source": [
    "item_list = list(items_eodc)[::-1]"
   ]
  },
  {
   "cell_type": "code",
   "execution_count": null,
   "id": "3a44c7fc",
   "metadata": {},
   "outputs": [],
   "source": [
    "grouped_items = [[]]\n",
    "i=0\n",
    "for item in item_list:\n",
    "    \n",
    "    if not grouped_items[i]:\n",
    "        grouped_items[i].append(item)\n",
    "    \n",
    "    else: \n",
    "        if get_datetime(item) - get_datetime(grouped_items[i][-1]) <= pd.Timedelta(seconds=50):\n",
    "            grouped_items[i].append(item)\n",
    "\n",
    "        else:\n",
    "            grouped_items.append([item])\n",
    "            i+=1"
   ]
  },
  {
   "cell_type": "markdown",
   "id": "03346a5e",
   "metadata": {},
   "source": [
    "Load Data with StackStac, boundary box has to be set according to data or problems occur (which is why only load tile by tile)"
   ]
  },
  {
   "cell_type": "code",
   "execution_count": null,
   "id": "dbe52b65",
   "metadata": {},
   "outputs": [],
   "source": [
    "def get_datetime(item):\n",
    "    return datetime.strptime(item.properties[\"datetime\"], \"%Y-%m-%dT%H:%M:%SZ\")"
   ]
  },
  {
   "cell_type": "code",
   "execution_count": null,
   "id": "dd10e559",
   "metadata": {},
   "outputs": [],
   "source": [
    "get_datetime(item_list[1]) - get_datetime(item_list[0])"
   ]
  },
  {
   "cell_type": "code",
   "execution_count": null,
   "id": "857a6221",
   "metadata": {},
   "outputs": [],
   "source": [
    "timestamp_str = item_id.split('_')[1]  # '20240201T165055'\n",
    "\n",
    "# Parse it into a datetime object\n",
    "dt = datetime.strptime(timestamp_str, \"%Y%m%dT%H%M%S\")"
   ]
  },
  {
   "cell_type": "code",
   "execution_count": null,
   "id": "7711cb91",
   "metadata": {},
   "outputs": [],
   "source": [
    "data=[]\n",
    "for item in item_list[:6]:\n",
    "    \n",
    "    d = load_data(item, \"VH\")\n",
    "\n",
    "    if not data:\n",
    "        data.append(d)\n",
    "\n",
    "    else:\n",
    "        if d.time.values-data[-1].time.values <= pd.Timedelta(seconds=50):\n",
    "            d = xr.where(d.values==-9999, data[-1], d.values, keep_attrs=True)\n",
    "            data[-1]=d\n",
    "        else:\n",
    "            data.append(d)"
   ]
  },
  {
   "cell_type": "code",
   "execution_count": null,
   "id": "646cca90",
   "metadata": {},
   "outputs": [],
   "source": [
    "data = xr.concat(data, dim=\"time\")\n",
    "data = data.squeeze()\n",
    "#data = data.sortby(\"time\")"
   ]
  },
  {
   "cell_type": "code",
   "execution_count": null,
   "id": "efcb990f",
   "metadata": {},
   "outputs": [],
   "source": [
    "data"
   ]
  },
  {
   "cell_type": "code",
   "execution_count": null,
   "id": "f76a9116",
   "metadata": {},
   "outputs": [],
   "source": [
    "# time_dim = 20\n",
    "# x_dim = 15000\n",
    "# y_dim = 15000\n",
    "\n",
    "# time = pd.date_range(start=\"2024-01-01\", periods=time_dim, freq=\"D\")\n",
    "# x = np.arange(5100000, 5400000, 20)\n",
    "# y = np.arange(1800000, 1500000, -20)\n",
    "\n",
    "# # Create dummy data: fill with zeros (or any int16 value)\n",
    "# data = np.zeros((time_dim, y_dim, x_dim), dtype=np.int16)\n",
    "\n",
    "# # Create DataArray\n",
    "# data = xr.DataArray(\n",
    "#     data,\n",
    "#     dims=[\"time\", \"y\", \"x\"],\n",
    "#     coords={\"time\": time, \"x\": x, \"y\": y},\n",
    "#     name=\"example\"\n",
    "# )"
   ]
  },
  {
   "cell_type": "code",
   "execution_count": null,
   "id": "8497da79",
   "metadata": {},
   "outputs": [],
   "source": [
    "# crs = CRS.from_wkt(item_list[0].properties[\"proj:wkt2\"])\n",
    "# res = item_list[0].properties[\"gsd\"]\n",
    "# epsg = crs.to_epsg()\n",
    "# bbox = item_list[0].properties[\"proj:bbox\"]"
   ]
  },
  {
   "cell_type": "code",
   "execution_count": null,
   "id": "7cc79101",
   "metadata": {},
   "outputs": [],
   "source": [
    "# data = stackstac.stack(items_eodc,\n",
    "#                         epsg=epsg,\n",
    "#                         assets=[\"VH\"],\n",
    "#                         bounds = bbox,\n",
    "#                         resolution=res,\n",
    "#                         chunksize=[66,1,100,100],\n",
    "#                         fill_value=-9999,\n",
    "#                         rescale=False,\n",
    "#                         snap_bounds=False)\n",
    "\n",
    "\n",
    "# data = data.squeeze()\n",
    "# data = data.drop_vars([coord for coord in data.coords if coord not in [\"x\",\"y\",\"time\"]])\n",
    "# data.attrs = {}"
   ]
  },
  {
   "cell_type": "markdown",
   "id": "6664654f",
   "metadata": {},
   "source": [
    "### Subsets"
   ]
  },
  {
   "cell_type": "markdown",
   "id": "fff3c376",
   "metadata": {},
   "source": [
    "For testing, split data to smaller subsets"
   ]
  },
  {
   "cell_type": "code",
   "execution_count": null,
   "id": "24b3f282",
   "metadata": {},
   "outputs": [],
   "source": [
    "# time_dim = 2\n",
    "# x_dim = 15000\n",
    "# y_dim = 15000\n",
    "\n",
    "# # Create coordinate values\n",
    "# time = pd.date_range(start=\"2024-01-01\", periods=time_dim, freq=\"D\")\n",
    "# x = mapping_x\n",
    "# y = mapping_y\n",
    "\n",
    "# # Create dummy data: fill with zeros (or any int16 value)\n",
    "# data = np.zeros((time_dim, y_dim, x_dim), dtype=np.int16)\n",
    "\n",
    "# # Create DataArray\n",
    "# data = xr.DataArray(\n",
    "#     data,\n",
    "#     dims=[\"time\", \"y\", \"x\"],\n",
    "#     coords={\"time\": time, \"x\": x, \"y\": y},\n",
    "#     name=\"example\"\n",
    "# )\n"
   ]
  },
  {
   "cell_type": "code",
   "execution_count": null,
   "id": "0a438f06",
   "metadata": {},
   "outputs": [],
   "source": [
    "# time_dim = 2\n",
    "# x_dim = 15000\n",
    "# y_dim = 15000\n",
    "\n",
    "# # Create coordinate values\n",
    "# time = pd.date_range(start=\"2024-01-10\", periods=time_dim, freq=\"D\")\n",
    "# x = mapping_x2\n",
    "# y = mapping_y\n",
    "\n",
    "# # Create dummy data: fill with zeros (or any int16 value)\n",
    "# data2 = np.zeros((time_dim, y_dim, x_dim), dtype=np.int16)\n",
    "\n",
    "# # Create DataArray\n",
    "# data2 = xr.DataArray(\n",
    "#     data2,\n",
    "#     dims=[\"time\", \"y\", \"x\"],\n",
    "#     coords={\"time\": time, \"x\": x, \"y\": y},\n",
    "#     name=\"example\"\n",
    "# )"
   ]
  },
  {
   "cell_type": "code",
   "execution_count": null,
   "id": "63402b06",
   "metadata": {},
   "outputs": [],
   "source": [
    "# data2"
   ]
  },
  {
   "cell_type": "markdown",
   "id": "8c08eb17",
   "metadata": {},
   "source": [
    "### Building zarr store from scratch"
   ]
  },
  {
   "cell_type": "markdown",
   "id": "96f8f677",
   "metadata": {},
   "source": [
    "#### Initialize empty zarr store"
   ]
  },
  {
   "cell_type": "code",
   "execution_count": null,
   "id": "8755aec6",
   "metadata": {},
   "outputs": [],
   "source": [
    "mapping_x = np.arange(5100010, 5400000, 20)\n",
    "mapping_y = np.arange(1799990, 1500000, -20)"
   ]
  },
  {
   "cell_type": "code",
   "execution_count": null,
   "id": "1c0c158a",
   "metadata": {},
   "outputs": [],
   "source": [
    "shape = (data.time.shape[0],15000,15000)\n",
    "chunk_shape = (data.time.shape[0],100,100)\n",
    "shard_shape = (data.time.shape[0],7500,7500)\n",
    "compressors_array = zarr.codecs.BloscCodec()\n",
    "x_shape = (15000) #subset[\"x\"].shape\n",
    "y_shape = (15000) #subset[\"y\"].shape\n",
    "time_shape = data.time.shape"
   ]
  },
  {
   "cell_type": "code",
   "execution_count": null,
   "id": "90f4d342",
   "metadata": {},
   "outputs": [],
   "source": [
    "store = zarr.storage.LocalStore(\"empty_2.zarr\")\n",
    "root = zarr.create_group(store=store, overwrite=True)\n",
    "s1sig0 = root.create_group(\"s1sig0\")"
   ]
  },
  {
   "cell_type": "code",
   "execution_count": null,
   "id": "f623f9db",
   "metadata": {},
   "outputs": [],
   "source": [
    "overwrite=True\n",
    "\n",
    "vh_array = s1sig0.create_array(name=\"VH\",\n",
    "                shape=shape,\n",
    "                shards=shard_shape,\n",
    "                chunks=chunk_shape,\n",
    "                compressors=compressors_array,\n",
    "                dtype=\"int16\",\n",
    "                fill_value=-9999,\n",
    "                dimension_names=[\"time\", \"x\", \"y\"],\n",
    "                #attributes={\"_FillValue\": -9999},\n",
    "                overwrite=overwrite)\n",
    "\n",
    "x_array = s1sig0.create_array(name=\"x\",\n",
    "                shape=x_shape,\n",
    "                chunks=(15000,),\n",
    "                dtype=\"float64\",\n",
    "                dimension_names=[\"x\"],\n",
    "                attributes={\"_FillValue\": \"AAAAAAAA+H8=\"}, #fill value is NaN\n",
    "                overwrite=overwrite)\n",
    "\n",
    "y_array = s1sig0.create_array(name=\"y\",\n",
    "                shape=y_shape,\n",
    "                chunks=(15000,),\n",
    "                dtype=\"float64\",\n",
    "                dimension_names=[\"y\"],\n",
    "                attributes={\"_FillValue\": \"AAAAAAAA+H8=\"}, #fill value is NaN\n",
    "                overwrite=overwrite)\n",
    "\n",
    "time_array = s1sig0.create_array(name=\"time\",\n",
    "                shape=time_shape,\n",
    "                chunks=time_shape,\n",
    "                dtype=\"int64\",\n",
    "                dimension_names=[\"time\"],\n",
    "                attributes={\"units\": \"seconds since 2014-10-01 00:00:00\",\n",
    "                            \"calendar\": \"proleptic_gregorian\"},\n",
    "                overwrite=overwrite)"
   ]
  },
  {
   "cell_type": "markdown",
   "id": "c45a9ca8",
   "metadata": {},
   "source": [
    "#### Filling zarr store"
   ]
  },
  {
   "cell_type": "code",
   "execution_count": null,
   "id": "30db1a33",
   "metadata": {},
   "outputs": [],
   "source": [
    "origin = np.datetime64(\"2014-10-01T00:00:00\")\n",
    "times = data.time.values.astype(\"datetime64[s]\")\n",
    "time_delta = (times - origin).astype(\"timedelta64[s]\").astype(\"int64\")"
   ]
  },
  {
   "cell_type": "code",
   "execution_count": null,
   "id": "740699b1",
   "metadata": {},
   "outputs": [],
   "source": [
    "x_min, x_max = [get_idx(mapping_x, data[\"x\"].values[0]), get_idx(mapping_x, data[\"x\"].values[-1])+1]\n",
    "y_min, y_max = [get_idx(mapping_y, data[\"y\"].values[0]), get_idx(mapping_y, data[\"y\"].values[-1])+1]"
   ]
  },
  {
   "cell_type": "code",
   "execution_count": null,
   "id": "b0ec506f",
   "metadata": {},
   "outputs": [],
   "source": [
    "x_array[:] = data.x.values\n",
    "y_array[:] = data.y.values\n",
    "time_array[:] = time_delta"
   ]
  },
  {
   "cell_type": "code",
   "execution_count": null,
   "id": "fa6182f6",
   "metadata": {},
   "outputs": [],
   "source": [
    "vh_array[:, :, :] = data.values"
   ]
  },
  {
   "cell_type": "code",
   "execution_count": null,
   "id": "7776804f",
   "metadata": {},
   "outputs": [],
   "source": [
    "zarr.consolidate_metadata(store)\n",
    "zarr.consolidate_metadata(store, path=\"s1sig0\")"
   ]
  },
  {
   "cell_type": "markdown",
   "id": "79ec8947",
   "metadata": {},
   "source": [
    "#### Appending to existing store"
   ]
  },
  {
   "cell_type": "code",
   "execution_count": null,
   "id": "409f37c8",
   "metadata": {},
   "outputs": [],
   "source": [
    "store = zarr.storage.LocalStore(\"empty_2.zarr\")\n",
    "group = zarr.group(store=store)[\"s1sig0\"]"
   ]
  },
  {
   "cell_type": "code",
   "execution_count": null,
   "id": "b83ee50d",
   "metadata": {},
   "outputs": [],
   "source": [
    "origin = np.datetime64(\"2014-10-01T00:00:00\")\n",
    "times = data[\"time\"].values.astype(\"datetime64[s]\")\n",
    "time_delta = (times - origin).astype(\"timedelta64[s]\").astype(\"int64\")"
   ]
  },
  {
   "cell_type": "code",
   "execution_count": null,
   "id": "de01eb24",
   "metadata": {},
   "outputs": [],
   "source": [
    "existing_x = group[\"x\"][:]\n",
    "existing_y = group[\"y\"][:]\n",
    "existing_times = group[\"time\"][:]"
   ]
  },
  {
   "cell_type": "code",
   "execution_count": null,
   "id": "6977e8a1",
   "metadata": {},
   "outputs": [],
   "source": [
    "new_x = np.setdiff1d(data.x, existing_x)\n",
    "new_y = np.setdiff1d(data.y, existing_y)\n",
    "new_times = np.setdiff1d(time_delta, existing_times)\n",
    "\n",
    "new_shape_x = np.append(existing_x, new_x).shape[0]\n",
    "new_shape_y = np.append(existing_y, new_y).shape[0]\n",
    "new_shape_time = np.append(existing_times, new_times).shape[0]"
   ]
  },
  {
   "cell_type": "code",
   "execution_count": null,
   "id": "ab5753a5",
   "metadata": {},
   "outputs": [],
   "source": [
    "group[\"x\"].append(new_x)\n",
    "group[\"y\"].append(new_y)\n",
    "group[\"time\"].append(new_times)"
   ]
  },
  {
   "cell_type": "code",
   "execution_count": null,
   "id": "37979f46",
   "metadata": {},
   "outputs": [],
   "source": [
    "indices_x = lookup(group[\"x\"][:], data.x.values)\n",
    "indices_y = lookup(group[\"y\"][:], data.y.values)\n",
    "indices_times = lookup(group[\"time\"][:], time_delta)"
   ]
  },
  {
   "cell_type": "code",
   "execution_count": null,
   "id": "90ef2ffd",
   "metadata": {},
   "outputs": [],
   "source": [
    "group[\"VH\"].resize((new_shape_time,new_shape_x,new_shape_y))"
   ]
  },
  {
   "cell_type": "code",
   "execution_count": null,
   "id": "f5cd0e29",
   "metadata": {},
   "outputs": [],
   "source": [
    "for idx, timestamp in zip(indices_times, data.time):\n",
    "    group[\"VH\"][idx, indices_x[0]:indices_x[-1], indices_y[0]:indices_y[-1]] = data.sel(time = timestamp).values"
   ]
  },
  {
   "cell_type": "code",
   "execution_count": null,
   "id": "73249533",
   "metadata": {},
   "outputs": [],
   "source": [
    "zarr.consolidate_metadata(store)\n",
    "zarr.consolidate_metadata(store, path=\"s1sig0\")"
   ]
  },
  {
   "cell_type": "markdown",
   "id": "94046465",
   "metadata": {},
   "source": [
    "### Building zarr store with xarray"
   ]
  },
  {
   "cell_type": "code",
   "execution_count": null,
   "id": "b749cc55",
   "metadata": {},
   "outputs": [],
   "source": [
    "subset.to_dataset(name=\"VH\").to_zarr(store=\"small_example.zarr\", \n",
    "                                    compute=True, \n",
    "                                    mode=\"w\",\n",
    "                                    zarr_version=3,\n",
    "                                    encoding={\"VH\": {\"compressors\":zarr.codecs.BloscCodec(), \n",
    "                                                    \"shards\": (57,10000,10000), \n",
    "                                                    \"dtype\":\"int16\"}},\n",
    "                                    consolidated=True)"
   ]
  },
  {
   "cell_type": "markdown",
   "id": "6dd26564",
   "metadata": {},
   "source": [
    "### Inspecting Zarr store"
   ]
  },
  {
   "cell_type": "code",
   "execution_count": null,
   "id": "bcf4a42f",
   "metadata": {},
   "outputs": [],
   "source": [
    "ds = xr.open_zarr(\"empty_2.zarr\", group=\"s1sig0\", consolidated=False, chunks=None)\n",
    "ds"
   ]
  },
  {
   "cell_type": "code",
   "execution_count": null,
   "id": "8c40b09d",
   "metadata": {},
   "outputs": [],
   "source": [
    "filtered = ds.sel(time=\"2024-02-01T16:50:55.000000000\", x=slice(5100010, 5100070), y=slice(1799990, 1799930))"
   ]
  },
  {
   "cell_type": "code",
   "execution_count": null,
   "id": "f8dd339e",
   "metadata": {},
   "outputs": [],
   "source": [
    "filtered.load()"
   ]
  }
 ],
 "metadata": {
  "kernelspec": {
   "display_name": "default",
   "language": "python",
   "name": "python3"
  },
  "language_info": {
   "codemirror_mode": {
    "name": "ipython",
    "version": 3
   },
   "file_extension": ".py",
   "mimetype": "text/x-python",
   "name": "python",
   "nbconvert_exporter": "python",
   "pygments_lexer": "ipython3",
   "version": "3.11.4"
  }
 },
 "nbformat": 4,
 "nbformat_minor": 5
}
