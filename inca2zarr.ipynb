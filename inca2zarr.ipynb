{
 "cells": [
  {
   "cell_type": "code",
   "execution_count": null,
   "id": "f4a61a38",
   "metadata": {},
   "outputs": [],
   "source": [
    "import xarray as xr\n",
    "import numpy as np\n",
    "import zarr\n",
    "from datetime import datetime, timezone\n",
    "import BuildZarrStore as bzs\n",
    "import pandas as pd\n",
    "import os"
   ]
  },
  {
   "cell_type": "code",
   "execution_count": null,
   "id": "1943d06e",
   "metadata": {},
   "outputs": [],
   "source": [
    "var =\"T2M\"\n",
    "\n",
    "\n",
    "folder_path = f'INCA_data/{var}'\n",
    "\n",
    "filepaths = []\n",
    "\n",
    "for filename in os.listdir(folder_path):\n",
    "    file_path = os.path.join(folder_path, filename)\n",
    "    if os.path.isfile(file_path):\n",
    "        filepaths.append(file_path)"
   ]
  },
  {
   "cell_type": "code",
   "execution_count": null,
   "id": "996580fa",
   "metadata": {},
   "outputs": [],
   "source": [
    "xr.open_dataset(filepaths[63], chunks={}, mask_and_scale=False)"
   ]
  },
  {
   "cell_type": "code",
   "execution_count": null,
   "id": "ce01bb1a",
   "metadata": {},
   "outputs": [],
   "source": [
    "store = zarr.open(f'INCA.zarr/{var}', mode='r')\n",
    "arr = store[f'{var}']\n",
    "dtype=arr.dtype\n",
    "fill_value = arr.attrs.get('_FillValue', None)\n",
    "\n",
    "store = zarr.storage.LocalStore(\"INCA.zarr\")\n",
    "group = zarr.group(store=store)[var]\n",
    "x_extent = group[\"x\"][:]\n",
    "y_extent = group[\"y\"][:]\n",
    "\n",
    "for i, file in enumerate(filepaths):\n",
    "    data = xr.open_dataset(file, chunks={}, mask_and_scale=False)\n",
    "    data = data.load()\n",
    "\n",
    "    x_min, x_max = bzs.get_idx(x_extent, data[\"x\"].values)\n",
    "    y_min, y_max = bzs.get_idx(y_extent, data[\"y\"].values)\n",
    "\n",
    "    origin = np.datetime64(\"2011-03-15T00:00:00\").astype(\"datetime64[h]\")\n",
    "    time_min, time_max = data.time.values[0].astype(\"datetime64[h]\"), data.time.values[-1].astype(\"datetime64[h]\")+1\n",
    "    time_delta_min, time_delta_max = (time_min - origin).astype(\"int64\"), (time_max - origin).astype(\"int64\")\n",
    "\n",
    "    full_range = pd.date_range(time_min, time_max, freq=\"1H\").values.astype(\"datetime64[ns]\")\n",
    "\n",
    "    for value in data.time.values:\n",
    "        if value in set(full_range):\n",
    "            continue\n",
    "        else:\n",
    "            print(f\"{file} Data incomplete\")\n",
    "            empty_array = np.full((full_range.shape[0], data[\"x\"].values.shape[0], data[\"y\"].values.shape[0]),\n",
    "                                fill_value=fill_value, dtype=dtype)\n",
    "\n",
    "            template = xr.Dataset({f\"{var}\": ((\"time\", \"x\", \"y\"), empty_array)},\n",
    "                                  coords={\n",
    "                                    \"time\": full_range,\n",
    "                                    \"x\": data[\"x\"].values,\n",
    "                                    \"y\": data[\"y\"].values\n",
    "                                  }\n",
    "                                  )\n",
    "\n",
    "            data_filled = data.combine_first(template)\n",
    "            print(f\"{file} Data gaps filled with no data values\")\n",
    "            break\n",
    "\n",
    "\n",
    "    group[var][time_delta_min:time_delta_max, y_min:y_max, x_min:x_max] = data[var].values\n",
    "\n",
    "    print(f\"{file} written to zarr store. {i}/{len(filepaths)} complete💌\")"
   ]
  },
  {
   "cell_type": "markdown",
   "id": "9318889d",
   "metadata": {},
   "source": [
    "### Inspecting the zarr store"
   ]
  },
  {
   "cell_type": "code",
   "execution_count": null,
   "id": "53d4cae8",
   "metadata": {},
   "outputs": [],
   "source": [
    "ds = xr.open_zarr(\"INCA.zarr\", consolidated=True, chunks={})\n",
    "ds"
   ]
  },
  {
   "cell_type": "code",
   "execution_count": null,
   "id": "9c2702c5",
   "metadata": {},
   "outputs": [],
   "source": [
    "filtered = ds.sel(time=slice(\"2021-12-01T00:00:00.000000000\",\"2021-12-31T23:00:00.000000000\"))"
   ]
  },
  {
   "cell_type": "code",
   "execution_count": null,
   "id": "9905c253",
   "metadata": {},
   "outputs": [],
   "source": [
    "loaded = filtered.load()\n",
    "loaded"
   ]
  },
  {
   "cell_type": "code",
   "execution_count": null,
   "id": "e224a016",
   "metadata": {},
   "outputs": [],
   "source": []
  }
 ],
 "metadata": {
  "kernelspec": {
   "display_name": "zarr",
   "language": "python",
   "name": "python3"
  },
  "language_info": {
   "codemirror_mode": {
    "name": "ipython",
    "version": 3
   },
   "file_extension": ".py",
   "mimetype": "text/x-python",
   "name": "python",
   "nbconvert_exporter": "python",
   "pygments_lexer": "ipython3",
   "version": "3.11.4"
  }
 },
 "nbformat": 4,
 "nbformat_minor": 5
}
