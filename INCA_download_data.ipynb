{
 "cells": [
  {
   "cell_type": "code",
   "execution_count": null,
   "id": "2675008f",
   "metadata": {},
   "outputs": [],
   "source": [
    "import json\n",
    "import os\n",
    "import requests\n",
    "\n",
    "variable= \"GL\"\n",
    "end_date = \"202506\"\n",
    "\n",
    "base_url = f\"https://public.hub.geosphere.at/datahub/resources/inca-v1-1h-1km/filelisting/{variable}/\"\n",
    "\n",
    "years = range(2011, 2026)  # Up to 2025\n",
    "months = range(1, 13)      # Jan to Dec\n",
    "\n",
    "file_links = []\n",
    "\n",
    "for year in years:\n",
    "    for month in months:\n",
    "        yyyymm = f\"{year}{month:02d}\"\n",
    "        if yyyymm > end_date:  # Stop at 2025-06\n",
    "            break\n",
    "        filename = f\"INCAL_HOURLY_{variable}_{yyyymm}.nc\"\n",
    "        full_url = base_url + filename\n",
    "        file_links.append(full_url)\n",
    "\n",
    "file_links = file_links[2:]\n",
    "\n",
    "with open(f'INCA_jsons/inca_{variable}_file_links.json', 'w') as f:\n",
    "    json.dump(file_links, f, indent=2)\n",
    "\n",
    "print(f\"✅ Saved {len(file_links)} file links to inca_{variable}_file_links.json\")"
   ]
  },
  {
   "cell_type": "code",
   "execution_count": null,
   "id": "f0c717e1",
   "metadata": {},
   "outputs": [],
   "source": [
    "import json\n",
    "import os\n",
    "import requests\n",
    "\n",
    "variable=\"T2M\"\n",
    "\n",
    "with open(f'INCA_jsons/inca_{variable}_file_links.json', 'r') as f:\n",
    "    urls = json.load(f)\n",
    "\n",
    "download_dir = f'INCA_data/{variable}'\n",
    "os.makedirs(download_dir, exist_ok=True)\n",
    "\n",
    "# 4️⃣ Download files\n",
    "for url in urls:\n",
    "    filename = os.path.basename(url)\n",
    "    local_path = os.path.join(download_dir, filename)\n",
    "\n",
    "    if not os.path.exists(local_path):  # Skip if already downloaded\n",
    "        print(f\"⬇️ Downloading {filename}...\")\n",
    "        response = requests.get(url, stream=True)\n",
    "        response.raise_for_status()\n",
    "        with open(local_path, 'wb') as f:\n",
    "            for chunk in response.iter_content(chunk_size=8192):\n",
    "                f.write(chunk)\n",
    "        print(f\"✅ Saved to {local_path}\")\n",
    "    else:\n",
    "        print(f\"✅ Already downloaded: {filename}\")"
   ]
  },
  {
   "cell_type": "code",
   "execution_count": null,
   "id": "5c3dd439",
   "metadata": {},
   "outputs": [],
   "source": []
  }
 ],
 "metadata": {
  "kernelspec": {
   "display_name": "dask_env",
   "language": "python",
   "name": "python3"
  },
  "language_info": {
   "codemirror_mode": {
    "name": "ipython",
    "version": 3
   },
   "file_extension": ".py",
   "mimetype": "text/x-python",
   "name": "python",
   "nbconvert_exporter": "python",
   "pygments_lexer": "ipython3",
   "version": "3.11.4"
  }
 },
 "nbformat": 4,
 "nbformat_minor": 5
}
