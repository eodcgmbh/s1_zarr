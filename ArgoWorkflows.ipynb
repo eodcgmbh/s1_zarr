{
 "cells": [
  {
   "cell_type": "code",
   "execution_count": null,
   "id": "f7344659",
   "metadata": {},
   "outputs": [],
   "source": [
    "from dotenv import load_dotenv\n",
    "import os\n",
    "load_dotenv(\"s3.env\")\n",
    "from hera.workflows import Steps, Workflow, script, Task, Container, DAG, RunnerScriptConstructor, Script, Volume\n",
    "from hera.shared import global_config\n",
    "\n",
    "global_config.host = \"https://dev.services.eodc.eu/workflows/\"\n",
    "global_config.namespace = \"default\"\n",
    "global_config.token = os.getenv(\"argo_token\")\n",
    "global_config.image = \"ghcr.io/katharinastarzer21/image_zarr:latest\"\n",
    "global_config.set_class_defaults(Script, constructor=RunnerScriptConstructor())\n",
    "\n",
    "security_context = {\"runAsUser\": 74268,\n",
    "                    \"runAsGroup\": 71473}\n",
    "\n",
    "nfs_volume = Volume(\n",
    "    name=\"eodc-mount\",\n",
    "    persistent_volume_claim={\"claimName\": \"eodc-nfs-claim\"}  # Change this to your actual PVC name\n",
    ")\n",
    "\n",
    "nfs_volume_mount = {\n",
    "    \"name\": \"eodc-mount\",\n",
    "    \"mountPath\": \"/eodc\"\n",
    "}\n"
   ]
  },
  {
   "cell_type": "code",
   "execution_count": null,
   "id": "37ea397c",
   "metadata": {},
   "outputs": [],
   "source": [
    "@script()\n",
    "def inca_download(variable: str)\n",
    "    from urllib.request import urlretrieve\n",
    "    import os\n",
    "\n",
    "    url = f\"https://public.hub.geosphere.at/datahub/resources/inca-v1-1h-1km/filelisting/{variable}/INCAL_HOURLY_{variable}_202506.nc\"\n",
    "    filename = os.path.basename(url)\n",
    "    base = \"/tmp\"\n",
    "    urlretrieve(url, os.path.join(base,filename))\n",
    "\n",
    "@script()\n",
    "def inca_write(variable: str)\n",
    "    import os\n",
    "    import xarray as xr\n",
    "    import numpy as np\n",
    "    import zarr\n",
    "\n",
    "    filename = f\"INCAL_HOURLY_{variable}_202506.nc\"\n",
    "    artifact_path = os.path.join(\"/tmp\", filename)\n",
    "    nfs_path = \"/eodc/private/openeo_platform/zarr_nacho\"\n",
    "\n",
    "    def get_idx(array1, array2):\n",
    "        min_idx = np.where(array1 == array2[0])[0][0]\n",
    "        max_idx = np.where(array1 == array2[-1])[0][0] + 1\n",
    "        return min_idx, max_idx\n",
    "\n",
    "    data = xr.open_dataset(artifact_path, mask_and_scale=False).load()\n",
    "\n",
    "    store = zarr.storage.LocalStore(os.path.join(nfs_path, \"INCA_test.zarr\"))\n",
    "    group = zarr.group(store=store)\n",
    "    x_extent = group[\"x\"][:]\n",
    "    y_extent = group[\"y\"][:]\n",
    "\n",
    "    x_min, x_max = get_idx(x_extent, data[\"x\"].values)\n",
    "    y_min, y_max = get_idx(y_extent, data[\"y\"].values)\n",
    "\n",
    "    origin = np.datetime64(\"2011-03-15T00:00:00\").astype(\"datetime64[h]\")\n",
    "    time_min, time_max = data.time.values[0].astype(\"datetime64[h]\"), data.time.values[-1].astype(\"datetime64[h]\") + 1\n",
    "    time_delta_min, time_delta_max = (time_min - origin).astype(\"int64\"), (time_max - origin).astype(\"int64\")\n",
    "\n",
    "    group[variable][time_delta_min:time_delta_max, y_min:y_max, x_min:x_max] = data[variable].values"
   ]
  },
  {
   "cell_type": "code",
   "execution_count": null,
   "id": "2764af72",
   "metadata": {},
   "outputs": [
    {
     "data": {
      "text/plain": [
       "Workflow(api_version=None, kind=None, metadata=ObjectMeta(annotations=None, cluster_name=None, creation_timestamp=Time(__root__=datetime.datetime(2025, 7, 11, 13, 34, 21, tzinfo=datetime.timezone.utc)), deletion_grace_period_seconds=None, deletion_timestamp=None, finalizers=None, generate_name='hello-world-steps-', generation=1, labels={'workflows.argoproj.io/creator': 'system-serviceaccount-default-jenkins'}, managed_fields=[ManagedFieldsEntry(api_version='argoproj.io/v1alpha1', fields_type='FieldsV1', fields_v1=FieldsV1(), manager='argo', operation='Update', subresource=None, time=Time(__root__=datetime.datetime(2025, 7, 11, 13, 34, 21, tzinfo=datetime.timezone.utc)))], name='hello-world-steps-mklx6', namespace='default', owner_references=None, resource_version='307545700', self_link=None, uid='d87fc5d0-4cb4-4498-b855-4131cb11e1c2'), spec=WorkflowSpec(active_deadline_seconds=None, affinity=None, archive_logs=None, arguments=Arguments(artifacts=None, parameters=None), artifact_gc=None, artifact_repository_ref=None, automount_service_account_token=None, dns_config=None, dns_policy=None, entrypoint='steps', executor=None, hooks=None, host_aliases=None, host_network=None, image_pull_secrets=None, metrics=None, node_selector=None, on_exit=None, parallelism=None, pod_disruption_budget=None, pod_gc=None, pod_metadata=None, pod_priority=None, pod_priority_class_name=None, pod_spec_patch=None, priority=None, retry_strategy=None, scheduler_name=None, security_context=None, service_account_name=None, shutdown=None, suspend=None, synchronization=None, template_defaults=None, templates=[Template(active_deadline_seconds=None, affinity=None, archive_location=None, automount_service_account_token=None, container=None, container_set=None, daemon=None, dag=None, data=None, executor=None, fail_fast=None, host_aliases=None, http=None, init_containers=None, inputs=Inputs(artifacts=None, parameters=None), memoize=None, metadata=Metadata(annotations=None, labels=None), metrics=None, name='steps', node_selector=None, outputs=Outputs(artifacts=None, exit_code=None, parameters=None, result=None), parallelism=None, plugin=None, pod_spec_patch=None, priority=None, priority_class_name=None, resource=None, retry_strategy=None, scheduler_name=None, script=None, security_context=None, service_account_name=None, sidecars=None, steps=[ParallelSteps(__root__=[WorkflowStep(arguments=Arguments(artifacts=None, parameters=[Parameter(default=None, description=None, enum=None, global_name=None, name='message', value='Hello world!', value_from=None)]), continue_on=None, hooks=None, inline=None, name='hello', on_exit=None, template='echo', template_ref=None, when=None, with_items=None, with_param=None, with_sequence=None)]), ParallelSteps(__root__=[WorkflowStep(arguments=Arguments(artifacts=None, parameters=[Parameter(default=None, description=None, enum=None, global_name=None, name='message', value='Goodbye world!', value_from=None)]), continue_on=None, hooks=None, inline=None, name='goodbye', on_exit=None, template='echo', template_ref=None, when=None, with_items=None, with_param=None, with_sequence=None)])], suspend=None, synchronization=None, timeout=None, tolerations=None, volumes=None), Template(active_deadline_seconds=None, affinity=None, archive_location=None, automount_service_account_token=None, container=None, container_set=None, daemon=None, dag=None, data=None, executor=None, fail_fast=None, host_aliases=None, http=None, init_containers=None, inputs=Inputs(artifacts=None, parameters=[Parameter(default=None, description=None, enum=None, global_name=None, name='message', value=None, value_from=None)]), memoize=None, metadata=Metadata(annotations=None, labels=None), metrics=None, name='echo', node_selector=None, outputs=Outputs(artifacts=None, exit_code=None, parameters=None, result=None), parallelism=None, plugin=None, pod_spec_patch=None, priority=None, priority_class_name=None, resource=None, retry_strategy=None, scheduler_name=None, script=ScriptTemplate(args=['-m', 'hera.workflows.runner', '-e', '__main__:echo'], command=['python'], env=None, env_from=None, image='ghcr.io/katharinastarzer21/image_zarr:latest', image_pull_policy=None, lifecycle=None, liveness_probe=None, name='', ports=None, readiness_probe=None, resources=ResourceRequirements(limits=None, requests=None), security_context=None, source='{{inputs.parameters}}', startup_probe=None, stdin=None, stdin_once=None, termination_message_path=None, termination_message_policy=None, tty=None, volume_devices=None, volume_mounts=None, working_dir=None), security_context=None, service_account_name=None, sidecars=None, steps=None, suspend=None, synchronization=None, timeout=None, tolerations=None, volumes=None)], tolerations=None, ttl_strategy=None, volume_claim_gc=None, volume_claim_templates=None, volumes=None, workflow_metadata=None, workflow_template_ref=None), status=WorkflowStatus(artifact_gc_status=None, artifact_repository_ref=None, compressed_nodes=None, conditions=None, estimated_duration=None, finished_at=None, message=None, nodes=None, offload_node_status_version=None, outputs=None, persistent_volume_claims=None, phase=None, progress=None, resources_duration=None, started_at=None, stored_templates=None, stored_workflow_template_spec=None, synchronization=None, task_results_completion_status=None))"
      ]
     },
     "execution_count": 38,
     "metadata": {},
     "output_type": "execute_result"
    }
   ],
   "source": [
    "with Workflow(\n",
    "    generate_name=\"INCA-zarr-\"\n",
    "    volumes = \"download\",\n",
    ") as w:\n",
    "    with DAG(name=\"download\")"
   ]
  },
  {
   "cell_type": "code",
   "execution_count": null,
   "id": "162192f7",
   "metadata": {},
   "outputs": [],
   "source": [
    "from hera.workflows import Workflow, Task, Container\n",
    "\n",
    "# Define your container step\n",
    "container_step = Container(\n",
    "    name=\"run-python-script\",  # Use the pushed image\n",
    ")\n",
    "\n",
    "# Define a task running that container\n",
    "task = Task(name=\"run-script-task\", template=container_step)\n",
    "\n",
    "# Define the workflow\n",
    "with Workflow(generate_name=\"python-script-workflow-\") as w:\n",
    "    with Steps(name=\"main-steps\") as s:\n",
    "        s.add(task)\n",
    "\n",
    "# Create the workflow (you need a K8s context set up for this to work)\n",
    "w.create()\n"
   ]
  }
 ],
 "metadata": {
  "kernelspec": {
   "display_name": "zarr",
   "language": "python",
   "name": "python3"
  },
  "language_info": {
   "codemirror_mode": {
    "name": "ipython",
    "version": 3
   },
   "file_extension": ".py",
   "mimetype": "text/x-python",
   "name": "python",
   "nbconvert_exporter": "python",
   "pygments_lexer": "ipython3",
   "version": "3.11.4"
  }
 },
 "nbformat": 4,
 "nbformat_minor": 5
}
