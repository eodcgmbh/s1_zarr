{
 "cells": [
  {
   "cell_type": "code",
   "execution_count": 157,
   "id": "f7344659",
   "metadata": {},
   "outputs": [],
   "source": [
    "from dotenv import load_dotenv\n",
    "import os\n",
    "load_dotenv(\"s3.env\")\n",
    "from hera.workflows import models, Steps, Workflow, script, Artifact, Container, DAG, RunnerScriptConstructor, Script, NFSVolume, NoneArchiveStrategy\n",
    "from hera.shared import global_config\n",
    "\n",
    "global_config.host = \"https://dev.services.eodc.eu/workflows/\"\n",
    "global_config.namespace = \"inca\"\n",
    "global_config.token = os.getenv(\"argo_token\")\n",
    "global_config.image = \"ghcr.io/oscipal/image_zarr:latest\"\n",
    "\n",
    "security_context = {\"runAsUser\": 74268,\n",
    "                    \"runAsGroup\": 71473}\n",
    "\n",
    "nfs_volume = [models.Volume(\n",
    "    name=\"eodc-mount\",\n",
    "    persistent_volume_claim={\"claimName\": \"eodc-nfs-claim\"},\n",
    "    )]\n"
   ]
  },
  {
   "cell_type": "code",
   "execution_count": 158,
   "id": "37ea397c",
   "metadata": {},
   "outputs": [],
   "source": [
    "@script(outputs=Artifact(name=\"inca-file\", path=\"/tmp/INCA_{{inputs.parameters.variable}}.nc\", archive=NoneArchiveStrategy()))\n",
    "def inca_download(variable: str):\n",
    "    from urllib.request import urlretrieve\n",
    "    import os\n",
    "    import datetime\n",
    "\n",
    "    ym = (datetime.date.today()-datetime.timedelta(days=20)).strftime(\"%Y%m\")\n",
    "    print(ym)\n",
    "    url = f\"https://public.hub.geosphere.at/datahub/resources/inca-v1-1h-1km/filelisting/{variable}/INCAL_HOURLY_{variable}_{ym}.nc\"\n",
    "    urlretrieve(url, f\"/tmp/INCA_{variable}.nc\")\n",
    "\n",
    "@script(inputs=Artifact(name=\"inca-file\", path=\"/tmp/INCA_{{inputs.parameters.variable}}.nc\"),\n",
    "        volume_mounts=[models.VolumeMount(name=\"eodc-mount\", mount_path=\"/eodc\")])\n",
    "def inca_write(variable: str):\n",
    "    import os\n",
    "    import xarray as xr\n",
    "    import numpy as np\n",
    "    import zarr\n",
    "\n",
    "    artifact_path = f\"/tmp/INCA_{variable}.nc\"\n",
    "    nfs_path = \"/eodc/private/openeo_platform/zarr_nacho\"\n",
    "\n",
    "    def get_idx(array1, array2):\n",
    "        min_idx = np.where(array1 == array2[0])[0][0]\n",
    "        max_idx = np.where(array1 == array2[-1])[0][0] + 1\n",
    "        return min_idx, max_idx\n",
    "\n",
    "    data = xr.open_dataset(artifact_path, mask_and_scale=False).load()\n",
    "\n",
    "    store = zarr.storage.LocalStore(os.path.join(nfs_path, \"INCA_test.zarr\"))\n",
    "    group = zarr.group(store=store)\n",
    "    x_extent = group[\"x\"][:]\n",
    "    y_extent = group[\"y\"][:]\n",
    "\n",
    "    x_min, x_max = get_idx(x_extent, data[\"x\"].values)\n",
    "    y_min, y_max = get_idx(y_extent, data[\"y\"].values)\n",
    "\n",
    "    origin = np.datetime64(\"2011-03-15T00:00:00\").astype(\"datetime64[h]\")\n",
    "    time_min, time_max = data.time.values[0].astype(\"datetime64[h]\"), data.time.values[-1].astype(\"datetime64[h]\") + 1\n",
    "    time_delta_min, time_delta_max = (time_min - origin).astype(\"int64\"), (time_max - origin).astype(\"int64\")\n",
    "\n",
    "    group[variable][time_delta_min:time_delta_max, y_min:y_max, x_min:x_max] = data[variable].values"
   ]
  },
  {
   "cell_type": "code",
   "execution_count": 159,
   "id": "2764af72",
   "metadata": {},
   "outputs": [],
   "source": [
    "items = [\"RR\"]\n",
    "\n",
    "with Workflow(\n",
    "    generate_name=\"inca-zarr-\",\n",
    "    volumes = nfs_volume,\n",
    "    security_context=security_context,\n",
    "    entrypoint=\"run-workflow\"\n",
    ") as w:\n",
    "    with DAG(name=\"run-workflow\"):\n",
    "        download = inca_download(arguments={\"variable\":\"{{item}}\"},\n",
    "                                 with_param=items,)\n",
    "\n",
    "        process = inca_write(arguments=[{\"variable\": \"{{item}}\"},\n",
    "                                        download.get_artifact(\"inca-file\").with_name(\"inca-file\")],\n",
    "                                        with_param=items,)\n",
    "\n",
    "        download >> process"
   ]
  },
  {
   "cell_type": "code",
   "execution_count": 160,
   "id": "98a28670",
   "metadata": {},
   "outputs": [],
   "source": [
    "with open(\"hera_workflow.yaml\", \"w\") as f:\n",
    "    f.write(w.to_yaml())"
   ]
  },
  {
   "cell_type": "code",
   "execution_count": 142,
   "id": "8c25d373",
   "metadata": {},
   "outputs": [
    {
     "data": {
      "text/plain": [
       "Workflow(api_version=None, kind=None, metadata=ObjectMeta(annotations=None, cluster_name=None, creation_timestamp=Time(__root__=datetime.datetime(2025, 7, 16, 6, 6, 45, tzinfo=datetime.timezone.utc)), deletion_grace_period_seconds=None, deletion_timestamp=None, finalizers=None, generate_name='inca-zarr-', generation=1, labels={'workflows.argoproj.io/creator': 'system-serviceaccount-default-jenkins'}, managed_fields=[ManagedFieldsEntry(api_version='argoproj.io/v1alpha1', fields_type='FieldsV1', fields_v1=FieldsV1(), manager='argo', operation='Update', subresource=None, time=Time(__root__=datetime.datetime(2025, 7, 16, 6, 6, 45, tzinfo=datetime.timezone.utc)))], name='inca-zarr-ffz2v', namespace='inca', owner_references=None, resource_version='310369990', self_link=None, uid='ae49ae4c-7cbe-4db2-889c-57c3b604ac2a'), spec=WorkflowSpec(active_deadline_seconds=None, affinity=None, archive_logs=None, arguments=Arguments(artifacts=None, parameters=None), artifact_gc=None, artifact_repository_ref=None, automount_service_account_token=None, dns_config=None, dns_policy=None, entrypoint='run-workflow', executor=None, hooks=None, host_aliases=None, host_network=None, image_pull_secrets=None, metrics=None, node_selector=None, on_exit=None, parallelism=None, pod_disruption_budget=None, pod_gc=None, pod_metadata=None, pod_priority=None, pod_priority_class_name=None, pod_spec_patch=None, priority=None, retry_strategy=None, scheduler_name=None, security_context=PodSecurityContext(fs_group=None, fs_group_change_policy=None, run_as_group=71473, run_as_non_root=None, run_as_user=74268, se_linux_options=None, seccomp_profile=None, supplemental_groups=None, sysctls=None, windows_options=None), service_account_name=None, shutdown=None, suspend=None, synchronization=None, template_defaults=None, templates=[Template(active_deadline_seconds=None, affinity=None, archive_location=None, automount_service_account_token=None, container=None, container_set=None, daemon=None, dag=None, data=None, executor=None, fail_fast=None, host_aliases=None, http=None, init_containers=None, inputs=Inputs(artifacts=None, parameters=None), memoize=None, metadata=Metadata(annotations=None, labels=None), metrics=None, name='run-workflow', node_selector=None, outputs=Outputs(artifacts=None, exit_code=None, parameters=None, result=None), parallelism=None, plugin=None, pod_spec_patch=None, priority=None, priority_class_name=None, resource=None, retry_strategy=None, scheduler_name=None, script=None, security_context=None, service_account_name=None, sidecars=None, steps=[ParallelSteps(__root__=[WorkflowStep(arguments=Arguments(artifacts=None, parameters=[Parameter(default=None, description=None, enum=None, global_name=None, name='variable', value='{{item}}', value_from=None)]), continue_on=None, hooks=None, inline=None, name='inca-download', on_exit=None, template='inca-download', template_ref=None, when=None, with_items=None, with_param='[\"RR\"]', with_sequence=None)]), ParallelSteps(__root__=[WorkflowStep(arguments=Arguments(artifacts=[Artifact(archive=None, archive_logs=None, artifact_gc=None, artifactory=None, azure=None, deleted=None, from_='{{steps.inca-download.outputs.artifacts.inca-file}}', from_expression=None, gcs=None, git=None, global_name=None, hdfs=None, http=None, mode=None, name='inca-file', optional=None, oss=None, path=None, raw=None, recurse_mode=None, s3=None, sub_path=None)], parameters=[Parameter(default=None, description=None, enum=None, global_name=None, name='variable', value='{{item}}', value_from=None)]), continue_on=None, hooks=None, inline=None, name='inca-write', on_exit=None, template='inca-write', template_ref=None, when=None, with_items=None, with_param='[\"RR\"]', with_sequence=None)])], suspend=None, synchronization=None, timeout=None, tolerations=None, volumes=None), Template(active_deadline_seconds=None, affinity=None, archive_location=None, automount_service_account_token=None, container=None, container_set=None, daemon=None, dag=None, data=None, executor=None, fail_fast=None, host_aliases=None, http=None, init_containers=None, inputs=Inputs(artifacts=None, parameters=[Parameter(default=None, description=None, enum=None, global_name=None, name='variable', value=None, value_from=None)]), memoize=None, metadata=Metadata(annotations=None, labels=None), metrics=None, name='inca-download', node_selector=None, outputs=Outputs(artifacts=[Artifact(archive=ArchiveStrategy(none=NoneStrategy(), tar=None, zip=None), archive_logs=None, artifact_gc=None, artifactory=None, azure=None, deleted=None, from_=None, from_expression=None, gcs=None, git=None, global_name=None, hdfs=None, http=None, mode=None, name='inca-file', optional=None, oss=None, path='/tmp/INCA_{{inputs.parameters.variable}}.nc', raw=None, recurse_mode=None, s3=None, sub_path=None)], exit_code=None, parameters=None, result=None), parallelism=None, plugin=None, pod_spec_patch=None, priority=None, priority_class_name=None, resource=None, retry_strategy=None, scheduler_name=None, script=ScriptTemplate(args=None, command=['python'], env=None, env_from=None, image='ghcr.io/oscipal/image_zarr:latest', image_pull_policy=None, lifecycle=None, liveness_probe=None, name='', ports=None, readiness_probe=None, resources=ResourceRequirements(limits=None, requests=None), security_context=None, source=\"import os\\nimport sys\\nsys.path.append(os.getcwd())\\nimport json\\ntry: variable = json.loads(r'''{{inputs.parameters.variable}}''')\\nexcept: variable = r'''{{inputs.parameters.variable}}'''\\n\\nfrom urllib.request import urlretrieve\\nimport os\\nimport datetime\\nym = (datetime.date.today() - datetime.timedelta(days=8)).strftime('%Y%m')\\nprint(ym)\\nurl = f'https://public.hub.geosphere.at/datahub/resources/inca-v1-1h-1km/filelisting/{variable}/INCAL_HOURLY_{variable}_{ym}.nc'\\nurlretrieve(url, f'/tmp/INCA_{variable}.nc')\", startup_probe=None, stdin=None, stdin_once=None, termination_message_path=None, termination_message_policy=None, tty=None, volume_devices=None, volume_mounts=None, working_dir=None), security_context=None, service_account_name=None, sidecars=None, steps=None, suspend=None, synchronization=None, timeout=None, tolerations=None, volumes=None), Template(active_deadline_seconds=None, affinity=None, archive_location=None, automount_service_account_token=None, container=None, container_set=None, daemon=None, dag=None, data=None, executor=None, fail_fast=None, host_aliases=None, http=None, init_containers=None, inputs=Inputs(artifacts=[Artifact(archive=None, archive_logs=None, artifact_gc=None, artifactory=None, azure=None, deleted=None, from_=None, from_expression=None, gcs=None, git=None, global_name=None, hdfs=None, http=None, mode=None, name='inca-file', optional=None, oss=None, path='/tmp/INCA_{{inputs.parameters.variable}}.nc', raw=None, recurse_mode=None, s3=None, sub_path=None)], parameters=[Parameter(default=None, description=None, enum=None, global_name=None, name='variable', value=None, value_from=None)]), memoize=None, metadata=Metadata(annotations=None, labels=None), metrics=None, name='inca-write', node_selector=None, outputs=Outputs(artifacts=None, exit_code=None, parameters=None, result=None), parallelism=None, plugin=None, pod_spec_patch=None, priority=None, priority_class_name=None, resource=None, retry_strategy=None, scheduler_name=None, script=ScriptTemplate(args=None, command=['python'], env=None, env_from=None, image='ghcr.io/oscipal/image_zarr:latest', image_pull_policy=None, lifecycle=None, liveness_probe=None, name='', ports=None, readiness_probe=None, resources=ResourceRequirements(limits=None, requests=None), security_context=None, source=\"import os\\nimport sys\\nsys.path.append(os.getcwd())\\nimport json\\ntry: variable = json.loads(r'''{{inputs.parameters.variable}}''')\\nexcept: variable = r'''{{inputs.parameters.variable}}'''\\n\\nimport os\\nimport xarray as xr\\nimport numpy as np\\nimport zarr\\nartifact_path = f'/tmp/INCA_{variable}.nc'\\nnfs_path = '/eodc/private/openeo_platform/zarr_nacho'\\n\\ndef get_idx(array1, array2):\\n    min_idx = np.where(array1 == array2[0])[0][0]\\n    max_idx = np.where(array1 == array2[-1])[0][0] + 1\\n    return (min_idx, max_idx)\\ndata = xr.open_dataset(artifact_path, mask_and_scale=False).load()\\nstore = zarr.storage.LocalStore(os.path.join(nfs_path, 'INCA_test.zarr'))\\ngroup = zarr.group(store=store)\\nx_extent = group['x'][:]\\ny_extent = group['y'][:]\\nx_min, x_max = get_idx(x_extent, data['x'].values)\\ny_min, y_max = get_idx(y_extent, data['y'].values)\\norigin = np.datetime64('2011-03-15T00:00:00').astype('datetime64[h]')\\ntime_min, time_max = (data.time.values[0].astype('datetime64[h]'), data.time.values[-1].astype('datetime64[h]') + 1)\\ntime_delta_min, time_delta_max = ((time_min - origin).astype('int64'), (time_max - origin).astype('int64'))\\ngroup[variable][time_delta_min:time_delta_max, y_min:y_max, x_min:x_max] = data[variable].values\", startup_probe=None, stdin=None, stdin_once=None, termination_message_path=None, termination_message_policy=None, tty=None, volume_devices=None, volume_mounts=[VolumeMount(mount_path='/eodc', mount_propagation=None, name='eodc-mount', read_only=None, sub_path=None, sub_path_expr=None)], working_dir=None), security_context=None, service_account_name=None, sidecars=None, steps=None, suspend=None, synchronization=None, timeout=None, tolerations=None, volumes=None)], tolerations=None, ttl_strategy=None, volume_claim_gc=None, volume_claim_templates=None, volumes=[Volume(aws_elastic_block_store=None, azure_disk=None, azure_file=None, cephfs=None, cinder=None, config_map=None, csi=None, downward_api=None, empty_dir=None, ephemeral=None, fc=None, flex_volume=None, flocker=None, gce_persistent_disk=None, git_repo=None, glusterfs=None, host_path=None, iscsi=None, name='eodc-mount', nfs=None, persistent_volume_claim=PersistentVolumeClaimVolumeSource(claim_name='eodc-nfs-claim', read_only=None), photon_persistent_disk=None, portworx_volume=None, projected=None, quobyte=None, rbd=None, scale_io=None, secret=None, storageos=None, vsphere_volume=None)], workflow_metadata=None, workflow_template_ref=None), status=WorkflowStatus(artifact_gc_status=None, artifact_repository_ref=None, compressed_nodes=None, conditions=None, estimated_duration=None, finished_at=None, message=None, nodes=None, offload_node_status_version=None, outputs=None, persistent_volume_claims=None, phase=None, progress=None, resources_duration=None, started_at=None, stored_templates=None, stored_workflow_template_spec=None, synchronization=None, task_results_completion_status=None))"
      ]
     },
     "execution_count": 142,
     "metadata": {},
     "output_type": "execute_result"
    }
   ],
   "source": [
    "w.create()"
   ]
  },
  {
   "cell_type": "code",
   "execution_count": null,
   "id": "bfb7181b",
   "metadata": {},
   "outputs": [],
   "source": []
  }
 ],
 "metadata": {
  "kernelspec": {
   "display_name": "zarr",
   "language": "python",
   "name": "python3"
  },
  "language_info": {
   "codemirror_mode": {
    "name": "ipython",
    "version": 3
   },
   "file_extension": ".py",
   "mimetype": "text/x-python",
   "name": "python",
   "nbconvert_exporter": "python",
   "pygments_lexer": "ipython3",
   "version": "3.11.4"
  }
 },
 "nbformat": 4,
 "nbformat_minor": 5
}
