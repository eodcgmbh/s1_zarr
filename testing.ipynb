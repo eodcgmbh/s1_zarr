{
 "cells": [
  {
   "cell_type": "code",
   "execution_count": null,
   "id": "920ecb32",
   "metadata": {},
   "outputs": [],
   "source": []
  }
 ],
 "metadata": {
  "kernelspec": {
   "display_name": "Python (summerjob)",
   "language": "python",
   "name": "summerjob"
  }
 },
 "nbformat": 4,
 "nbformat_minor": 5
}
