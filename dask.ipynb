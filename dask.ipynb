{
 "cells": [
  {
   "cell_type": "code",
   "execution_count": 2,
   "id": "554341ff-23ad-469e-a3c1-a29199d8a965",
   "metadata": {},
   "outputs": [
    {
     "ename": "ValueError",
     "evalue": "No JupyterHub API token provided, and JUPYTERHUB_API_TOKEN environment variable not found",
     "output_type": "error",
     "traceback": [
      "\u001b[31m---------------------------------------------------------------------------\u001b[39m",
      "\u001b[31mValueError\u001b[39m                                Traceback (most recent call last)",
      "\u001b[36mCell\u001b[39m\u001b[36m \u001b[39m\u001b[32mIn[2]\u001b[39m\u001b[32m, line 3\u001b[39m\n\u001b[32m      1\u001b[39m \u001b[38;5;28;01mfrom\u001b[39;00m \u001b[34;01mdask_gateway\u001b[39;00m \u001b[38;5;28;01mimport\u001b[39;00m Gateway\n\u001b[32m----> \u001b[39m\u001b[32m3\u001b[39m gate = \u001b[43mGateway\u001b[49m\u001b[43m(\u001b[49m\u001b[33;43m\"\u001b[39;49m\u001b[33;43mhttps://dask.user.eopf.eodc.eu\u001b[39;49m\u001b[33;43m\"\u001b[39;49m\u001b[43m,\u001b[49m\u001b[43m \u001b[49m\n\u001b[32m      4\u001b[39m \u001b[43m               \u001b[49m\u001b[43mproxy_address\u001b[49m\u001b[43m=\u001b[49m\u001b[33;43m\"\u001b[39;49m\u001b[33;43mtls://dask.user.eopf.eodc.eu:10000\u001b[39;49m\u001b[33;43m\"\u001b[39;49m\u001b[43m,\u001b[49m\n\u001b[32m      5\u001b[39m \u001b[43m               \u001b[49m\u001b[43mauth\u001b[49m\u001b[43m=\u001b[49m\u001b[33;43m\"\u001b[39;49m\u001b[33;43mjupyterhub\u001b[39;49m\u001b[33;43m\"\u001b[39;49m\u001b[43m)\u001b[49m\n",
      "\u001b[36mFile \u001b[39m\u001b[32m~/miniforge3/envs/dask_env/lib/python3.11/site-packages/dask_gateway/client.py:321\u001b[39m, in \u001b[36mGateway.__init__\u001b[39m\u001b[34m(self, address, proxy_address, public_address, auth, asynchronous, loop)\u001b[39m\n\u001b[32m    318\u001b[39m \u001b[38;5;28mself\u001b[39m._public_address = public_address\n\u001b[32m    319\u001b[39m \u001b[38;5;28mself\u001b[39m.proxy_address = proxy_address\n\u001b[32m--> \u001b[39m\u001b[32m321\u001b[39m \u001b[38;5;28mself\u001b[39m.auth = \u001b[43mget_auth\u001b[49m\u001b[43m(\u001b[49m\u001b[43mauth\u001b[49m\u001b[43m)\u001b[49m\n\u001b[32m    322\u001b[39m \u001b[38;5;28mself\u001b[39m._session = \u001b[38;5;28;01mNone\u001b[39;00m\n\u001b[32m    324\u001b[39m \u001b[38;5;28mself\u001b[39m._asynchronous = asynchronous\n",
      "\u001b[36mFile \u001b[39m\u001b[32m~/miniforge3/envs/dask_env/lib/python3.11/site-packages/dask_gateway/auth.py:52\u001b[39m, in \u001b[36mget_auth\u001b[39m\u001b[34m(auth)\u001b[39m\n\u001b[32m     50\u001b[39m auth_kwargs = dask.config.get(\u001b[33m\"\u001b[39m\u001b[33mgateway.auth.kwargs\u001b[39m\u001b[33m\"\u001b[39m, \u001b[38;5;28;01mNone\u001b[39;00m) \u001b[38;5;129;01mor\u001b[39;00m {}\n\u001b[32m     51\u001b[39m auth_kwargs = {k: format_template(v) \u001b[38;5;28;01mfor\u001b[39;00m k, v \u001b[38;5;129;01min\u001b[39;00m auth_kwargs.items()}\n\u001b[32m---> \u001b[39m\u001b[32m52\u001b[39m out = \u001b[43mauth\u001b[49m\u001b[43m(\u001b[49m\u001b[43m*\u001b[49m\u001b[43m*\u001b[49m\u001b[43mauth_kwargs\u001b[49m\u001b[43m)\u001b[49m\n\u001b[32m     54\u001b[39m \u001b[38;5;28;01mif\u001b[39;00m \u001b[38;5;129;01mnot\u001b[39;00m \u001b[38;5;28misinstance\u001b[39m(out, GatewayAuth):\n\u001b[32m     55\u001b[39m     \u001b[38;5;28;01mraise\u001b[39;00m \u001b[38;5;167;01mTypeError\u001b[39;00m(\u001b[33m\"\u001b[39m\u001b[33mauth must be instance of GatewayAuth, got \u001b[39m\u001b[38;5;132;01m%r\u001b[39;00m\u001b[33m\"\u001b[39m % out)\n",
      "\u001b[36mFile \u001b[39m\u001b[32m~/miniforge3/envs/dask_env/lib/python3.11/site-packages/dask_gateway/auth.py:158\u001b[39m, in \u001b[36mJupyterHubAuth.__init__\u001b[39m\u001b[34m(self, api_token)\u001b[39m\n\u001b[32m    156\u001b[39m     api_token = os.environ.get(\u001b[33m\"\u001b[39m\u001b[33mJUPYTERHUB_API_TOKEN\u001b[39m\u001b[33m\"\u001b[39m)\n\u001b[32m    157\u001b[39m     \u001b[38;5;28;01mif\u001b[39;00m api_token \u001b[38;5;129;01mis\u001b[39;00m \u001b[38;5;28;01mNone\u001b[39;00m:\n\u001b[32m--> \u001b[39m\u001b[32m158\u001b[39m         \u001b[38;5;28;01mraise\u001b[39;00m \u001b[38;5;167;01mValueError\u001b[39;00m(\n\u001b[32m    159\u001b[39m             \u001b[33m\"\u001b[39m\u001b[33mNo JupyterHub API token provided, and JUPYTERHUB_API_TOKEN \u001b[39m\u001b[33m\"\u001b[39m\n\u001b[32m    160\u001b[39m             \u001b[33m\"\u001b[39m\u001b[33menvironment variable not found\u001b[39m\u001b[33m\"\u001b[39m\n\u001b[32m    161\u001b[39m         )\n\u001b[32m    162\u001b[39m \u001b[38;5;28mself\u001b[39m.api_token = api_token\n",
      "\u001b[31mValueError\u001b[39m: No JupyterHub API token provided, and JUPYTERHUB_API_TOKEN environment variable not found"
     ]
    }
   ],
   "source": [
    "from dask_gateway import Gateway\n",
    "\n",
    "gate = Gateway(\"https://dask.user.eopf.eodc.eu\", \n",
    "               proxy_address=\"tls://dask.user.eopf.eodc.eu:10000\",\n",
    "               auth=\"jupyterhub\")"
   ]
  },
  {
   "cell_type": "code",
   "execution_count": 2,
   "id": "2e035e0d-de64-4aae-9174-6661d31b5d56",
   "metadata": {},
   "outputs": [],
   "source": [
    "cluster = gate.new_cluster()"
   ]
  },
  {
   "cell_type": "code",
   "execution_count": 3,
   "id": "8c4b2366-9c06-4375-a8d2-0ecc9746fbc7",
   "metadata": {},
   "outputs": [],
   "source": [
    "cluster.shutdown()"
   ]
  }
 ],
 "metadata": {
  "kernelspec": {
   "display_name": "dask_env",
   "language": "python",
   "name": "python3"
  },
  "language_info": {
   "codemirror_mode": {
    "name": "ipython",
    "version": 3
   },
   "file_extension": ".py",
   "mimetype": "text/x-python",
   "name": "python",
   "nbconvert_exporter": "python",
   "pygments_lexer": "ipython3",
   "version": "3.11.4"
  }
 },
 "nbformat": 4,
 "nbformat_minor": 5
}
