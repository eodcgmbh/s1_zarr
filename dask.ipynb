{
 "cells": [
  {
   "cell_type": "code",
   "execution_count": 1,
   "id": "554341ff-23ad-469e-a3c1-a29199d8a965",
   "metadata": {},
   "outputs": [],
   "source": [
    "from dask_gateway import Gateway\n",
    "\n",
    "gate = Gateway(\"https://dask.user.eopf.eodc.eu\", \n",
    "               proxy_address=\"tls://dask.user.eopf.eodc.eu:10000\",\n",
    "               auth=\"jupyterhub\")"
   ]
  },
  {
   "cell_type": "code",
   "execution_count": 2,
   "id": "2e035e0d-de64-4aae-9174-6661d31b5d56",
   "metadata": {},
   "outputs": [],
   "source": [
    "cluster = gate.new_cluster()"
   ]
  },
  {
   "cell_type": "code",
   "execution_count": 3,
   "id": "8c4b2366-9c06-4375-a8d2-0ecc9746fbc7",
   "metadata": {},
   "outputs": [],
   "source": [
    "cluster.shutdown()"
   ]
  }
 ],
 "metadata": {
  "kernelspec": {
   "display_name": "Python 3 (ipykernel)",
   "language": "python",
   "name": "python3"
  },
  "language_info": {
   "codemirror_mode": {
    "name": "ipython",
    "version": 3
   },
   "file_extension": ".py",
   "mimetype": "text/x-python",
   "name": "python",
   "nbconvert_exporter": "python",
   "pygments_lexer": "ipython3",
   "version": "3.11.12"
  }
 },
 "nbformat": 4,
 "nbformat_minor": 5
}
