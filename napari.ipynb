{
 "cells": [
  {
   "cell_type": "code",
   "execution_count": null,
   "id": "4c9868e9",
   "metadata": {},
   "outputs": [],
   "source": [
    "import xarray as xr \n",
    "\n",
    "ds = xr.open_zarr(\"INCA.zarr\")\n",
    "ds = ds[\"T2M\"].isel(time=slice(0,720)).load()"
   ]
  },
  {
   "cell_type": "code",
   "execution_count": null,
   "id": "c98944df",
   "metadata": {},
   "outputs": [],
   "source": [
    "ds2 = ds.coarsen(x=2, y=2, boundary=\"trim\").mean().load()"
   ]
  },
  {
   "cell_type": "code",
   "execution_count": null,
   "metadata": {},
   "outputs": [],
   "source": [
    "ds4 = ds2.coarsen(x=2, y=2, boundary=\"trim\").mean().load()"
   ]
  },
  {
   "cell_type": "code",
   "execution_count": null,
   "id": "c1f283df",
   "metadata": {},
   "outputs": [],
   "source": [
    "ds8 = ds4.coarsen(x=2, y=2, boundary=\"trim\").mean().load()"
   ]
  },
  {
   "cell_type": "code",
   "execution_count": null,
   "id": "67593216",
   "metadata": {},
   "outputs": [],
   "source": [
    "ds16 = ds8.coarsen(x=2, y=2, boundary=\"trim\").mean().load()"
   ]
  },
  {
   "cell_type": "code",
   "execution_count": null,
   "id": "b54c089e",
   "metadata": {},
   "outputs": [],
   "source": [
    "import xarray as xr\n",
    "import panel as pn\n",
    "import matplotlib.pyplot as plt\n",
    "\n",
    "pn.extension()\n",
    "\n",
    "# Load your pyramid datasets (adjust paths)\n",
    "pyramids = {\n",
    "    0: ds,\n",
    "    1: ds2,\n",
    "    2: ds4,\n",
    "    3: ds8,\n",
    "    4: ds16,\n",
    "}\n",
    "\n",
    "max_zoom = max(pyramids.keys())\n",
    "\n",
    "time_vals = pyramids[max_zoom].time.values\n",
    "\n",
    "time_slider = pn.widgets.IntSlider(start=0, end=len(time_vals)-1, value=0, name='Time')\n",
    "zoom_slider = pn.widgets.IntSlider(start=0, end=max_zoom, value=max_zoom, name='Zoom level (coarser=0)')\n",
    "\n",
    "mpl_pane = pn.pane.Matplotlib(sizing_mode='stretch_both')\n",
    "\n",
    "def plot_slice(zoom_level, time_idx):\n",
    "    ds = pyramids[zoom_level]\n",
    "    fig, ax = plt.subplots(figsize=(6,6))\n",
    "    ds.isel(time=time_idx).plot.imshow(ax=ax, cmap='viridis', vmin=ds.min(), vmax=ds.max())\n",
    "    ax.set_title(f\"Zoom: {zoom_level}, Time: {str(ds.time.values[time_idx])}\")\n",
    "    plt.close(fig)\n",
    "    return fig\n",
    "\n",
    "def update(event=None):\n",
    "    fig = plot_slice(zoom_slider.value, time_slider.value)\n",
    "    mpl_pane.object = fig\n",
    "\n",
    "time_slider.param.watch(update, 'value')\n",
    "zoom_slider.param.watch(update, 'value')\n",
    "\n",
    "update()  # initial plot\n",
    "\n",
    "layout = pn.Column(zoom_slider, time_slider, mpl_pane)\n",
    "layout.servable()\n",
    "layout.show()\n"
   ]
  },
  {
   "cell_type": "code",
   "execution_count": null,
   "id": "77161a52",
   "metadata": {},
   "outputs": [],
   "source": [
    "import xarray as xr\n",
    "import panel as pn\n",
    "import matplotlib.pyplot as plt\n",
    "from datetime import datetime\n",
    "pn.extension()\n",
    "\n",
    "# Open the zarr store\n",
    "ds = xr.open_zarr(\"s1sig0.zarr\", group=\"AT\")\n",
    "\n",
    "# Select one chunk (example indices, adjust based on chunking)\n",
    "chunk_data = ds[\"VV\"].isel(x=slice(0,500), y=slice(0,500)).sel(time=slice(\"2024-01-01T00:00:00.000000000\",\"2024-02-01T00:00:00.000000000\")).load()\n",
    "\n",
    "time_values = chunk_data.time.values\n",
    "\n",
    "time_indices = list(range(len(time_values)))\n",
    "\n",
    "time_slider = pn.widgets.DiscreteSlider(name='Time', options=time_indices, value=0)\n",
    "\n",
    "timestamp_display = pn.pane.Str(str(time_values[0]))\n",
    "\n",
    "def plot_time_slice(t_index):\n",
    "    fig, ax = plt.subplots(figsize=(6,6))\n",
    "    chunk_data.isel(time=t_index).plot(ax=ax, vmin=-20, vmax=0)\n",
    "    ax.set_title(f\"Time: {time_values[t_index]}\")\n",
    "    plt.close(fig)\n",
    "    return fig\n",
    "\n",
    "mpl_pane = pn.pane.Matplotlib(plot_time_slice(time_slider.value), tight=True)\n",
    "\n",
    "def update(event):\n",
    "    idx = event.new\n",
    "    mpl_pane.object = plot_time_slice(idx)\n",
    "    timestamp_display.object = str(time_values[idx])\n",
    "\n",
    "time_slider.param.watch(update, 'value')\n",
    "\n",
    "layout = pn.Column(time_slider, timestamp_display, mpl_pane)\n",
    "layout.servable()\n",
    "layout"
   ]
  },
  {
   "cell_type": "code",
   "execution_count": null,
   "id": "60fce8c1",
   "metadata": {},
   "outputs": [],
   "source": [
    "chunk_data.time[0]"
   ]
  },
  {
   "cell_type": "code",
   "execution_count": null,
   "id": "6ad2eb72",
   "metadata": {},
   "outputs": [],
   "source": [
    "import xarray as xr"
   ]
  },
  {
   "cell_type": "code",
   "execution_count": null,
   "id": "45be1209",
   "metadata": {},
   "outputs": [],
   "source": [
    "ds = xr.open_dataset(\"INCA_data/SPARTACUS2-YEARLY_TM_2014.nc\", mask_and_scale=True).load()[\"TM\"]"
   ]
  },
  {
   "cell_type": "code",
   "execution_count": null,
   "id": "84c94971",
   "metadata": {},
   "outputs": [],
   "source": [
    "ds.isel(x=slice(100,200), y=slice(200,300))"
   ]
  },
  {
   "cell_type": "code",
   "execution_count": null,
   "id": "db5a29b9",
   "metadata": {},
   "outputs": [],
   "source": []
  }
 ],
 "metadata": {
  "kernelspec": {
   "display_name": "zarr",
   "language": "python",
   "name": "python3"
  },
  "language_info": {
   "codemirror_mode": {
    "name": "ipython",
    "version": 3
   },
   "file_extension": ".py",
   "mimetype": "text/x-python",
   "name": "python",
   "nbconvert_exporter": "python",
   "pygments_lexer": "ipython3",
   "version": "3.11.4"
  }
 },
 "nbformat": 4,
 "nbformat_minor": 5
}
