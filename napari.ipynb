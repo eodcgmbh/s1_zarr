{
 "cells": [
  {
   "cell_type": "code",
   "execution_count": null,
   "id": "77161a52",
   "metadata": {},
   "outputs": [],
   "source": [
    "import xarray as xr\n",
    "import panel as pn\n",
    "import matplotlib.pyplot as plt\n",
    "pn.extension()\n",
    "\n",
    "# Open the zarr store\n",
    "ds = xr.open_zarr(\"INCA.zarr\")\n",
    "\n",
    "# Select one chunk (example indices, adjust based on chunking)\n",
    "chunk_data = ds[\"T2M\"].isel(x=slice(0,100), y=slice(0,100), time=slice(0,720)).load()\n",
    "\n",
    "def plot_time_slice(t):\n",
    "    fig, ax = plt.subplots(figsize=(6,6))\n",
    "    chunk_data.isel(time=t).plot(ax=ax)\n",
    "    ax.set_title(f\"Time index: {t}\")\n",
    "    plt.close(fig)  # Prevent double display\n",
    "    return fig\n",
    "\n",
    "time_slider = pn.widgets.IntSlider(start=0, end=chunk_data.time.size - 1, step=1, value=0)\n",
    "\n",
    "mpl_pane = pn.pane.Matplotlib(plot_time_slice(time_slider.value), tight=True)\n",
    "\n",
    "def update_plot(event):\n",
    "    mpl_pane.object = plot_time_slice(event.new)\n",
    "\n",
    "time_slider.param.watch(update_plot, 'value')\n",
    "\n",
    "layout = pn.Column(time_slider, mpl_pane)\n",
    "layout.servable()\n",
    "layout"
   ]
  },
  {
   "cell_type": "code",
   "execution_count": null,
   "id": "60fce8c1",
   "metadata": {},
   "outputs": [],
   "source": [
    "chunk_data"
   ]
  },
  {
   "cell_type": "code",
   "execution_count": null,
   "id": "6ad2eb72",
   "metadata": {},
   "outputs": [],
   "source": []
  }
 ],
 "metadata": {
  "kernelspec": {
   "display_name": "zarr",
   "language": "python",
   "name": "python3"
  },
  "language_info": {
   "codemirror_mode": {
    "name": "ipython",
    "version": 3
   },
   "file_extension": ".py",
   "mimetype": "text/x-python",
   "name": "python",
   "nbconvert_exporter": "python",
   "pygments_lexer": "ipython3",
   "version": "3.11.4"
  }
 },
 "nbformat": 4,
 "nbformat_minor": 5
}
