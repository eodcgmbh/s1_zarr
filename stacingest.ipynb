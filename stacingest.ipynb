{
 "cells": [
  {
   "cell_type": "code",
   "execution_count": null,
   "id": "4a9a8d14",
   "metadata": {},
   "outputs": [
    {
     "data": {
      "text/plain": [
       "True"
      ]
     },
     "execution_count": 9,
     "metadata": {},
     "output_type": "execute_result"
    }
   ],
   "source": [
    "import os\n",
    "from urllib.parse import urljoin\n",
    "import pystac\n",
    "import datetime\n",
    "\n",
    "from pystac import (\n",
    "    Summaries,\n",
    ")\n",
    "from pystac.extensions.datacube import (\n",
    "    DatacubeExtension,\n",
    "    DimensionType,\n",
    "    HorizontalSpatialDimensionAxis,\n",
    ")\n",
    "\n",
    "from pystac.extensions.projection import ProjectionExtension\n",
    "from pystac.utils import str_to_datetime\n",
    "from shapely.geometry import mapping, box\n",
    "\n",
    "\n",
    "import requests\n",
    "from requests.auth import HTTPBasicAuth\n",
    "\n",
    "from dotenv import load_dotenv\n",
    "load_dotenv(\"/home/otto/s1_zarr/.env\")"
   ]
  },
  {
   "cell_type": "code",
   "execution_count": 3,
   "id": "ffdf22a6",
   "metadata": {},
   "outputs": [],
   "source": [
    "username = os.getenv(\"username_stac_dev\")\n",
    "password = os.getenv(\"password_stac_dev\")"
   ]
  },
  {
   "cell_type": "code",
   "execution_count": 18,
   "id": "10651000",
   "metadata": {},
   "outputs": [
    {
     "name": "stdout",
     "output_type": "stream",
     "text": [
      "ingest1\n"
     ]
    }
   ],
   "source": [
    "print(username)\n",
    "def create_collection():\n",
    "\n",
    "    \"\"\"Creation of STAC collection\"\"\"\n",
    "    datacube = {\n",
    "        \"x\": {\n",
    "            \"axis\": HorizontalSpatialDimensionAxis.X,\n",
    "            \"type\": DimensionType.SPATIAL,\n",
    "            \"extent\": [20000, 720000],\n",
    "        },\n",
    "        \"y\": {\n",
    "            \"axis\": HorizontalSpatialDimensionAxis.Y,\n",
    "            \"type\": DimensionType.SPATIAL,\n",
    "            \"extent\": [220000, 620000],\n",
    "        },\n",
    "        \"time\": {\"type\": DimensionType.TEMPORAL, \"extent\": [\"2011-03-15T00:00:00Z\", None]},\n",
    "    }\n",
    "\n",
    "    parameters = {\n",
    "        \"GL\": {\n",
    "            \"description\": \"global radiation\",\n",
    "            \"unit\": \"W m-2\",\n",
    "            \"dimensions\": [\"x\", \"y\", \"time\"],\n",
    "        },\n",
    "        \"P0\": {\n",
    "            \"description\": \"mean sea level pressure\",\n",
    "            \"unit\": \"Pa\",\n",
    "            \"dimensions\": [\"x\", \"y\", \"time\"],\n",
    "        },\n",
    "        \"RH2M\": {\n",
    "            \"description\": \"relative humidity\",\n",
    "            \"unit\": \"percent\",\n",
    "            \"dimensions\": [\"x\", \"y\", \"time\"],\n",
    "        },\n",
    "        \"RR\": {\n",
    "            \"description\": \"1-hour precipitation sum\",\n",
    "            \"unit\": \"kg m-2\",\n",
    "            \"dimensions\": [\"x\", \"y\", \"time\"],\n",
    "        },\n",
    "        \"T2M\": {\n",
    "            \"description\": \"air temperature\",\n",
    "            \"unit\": \"degree_Celsius\",\n",
    "            \"dimensions\": [\"x\", \"y\", \"time\"],\n",
    "        },\n",
    "        \"TD2M\": {\n",
    "            \"description\": \"dew point temperature\",\n",
    "            \"unit\": \"degree_Celsius\",\n",
    "            \"dimensions\": [\"x\", \"y\", \"time\"],\n",
    "        },\n",
    "        \"UU\": {\n",
    "            \"description\": \"wind speed in eastward direction\",\n",
    "            \"unit\": \"m s-1\",\n",
    "            \"dimensions\": [\"x\", \"y\", \"time\"],\n",
    "        },\n",
    "        \"VV\": {\n",
    "            \"description\": \"wind speed in northward direction\",\n",
    "            \"unit\": \"m s-1\",\n",
    "            \"dimensions\": [\"x\", \"y\", \"time\"],\n",
    "        },\n",
    "    }\n",
    "\n",
    "    collection = pystac.Collection(\n",
    "        id=\"incal-hourly\",\n",
    "        title= \"INCA analysis hourly data (1km)\",\n",
    "        description=\"INCA combines all available datasources - weather stations, remote sensing data, numerical weather forecast models, and a high resolution terrain model - to provide a precise analysis of the condition of the near surface atmosphere.\",\n",
    "        extent=pystac.Extent(\n",
    "            pystac.SpatialExtent([[7.1, 45.77, 17.74, 49.48]]),\n",
    "            pystac.TemporalExtent([[str_to_datetime(\"2011-03-15T00:00:00Z\"), None]]),\n",
    "        ),\n",
    "        keywords=[\"GeoSphere\", \"INCA\", \"radiation\", \"pressure\", \"humiditiy\", \"precipitation\", \"temperature\", \"wind speed\"],\n",
    "        license=\"CC-BY-4.0\",\n",
    "        extra_fields={\"cube:dimensions\": datacube,\n",
    "                      \"cube:variables\": parameters}, \n",
    "    )\n",
    "\n",
    "    collection.providers = [\n",
    "    pystac.Provider(\n",
    "        name=\"EODC\",\n",
    "        roles=[\n",
    "            pystac.ProviderRole.HOST,\n",
    "        ],\n",
    "        url=\"https://eodc.eu/\",\n",
    "        ),\n",
    "    pystac.Provider(\n",
    "        name=\"GeoSphere Austria\",\n",
    "        roles=[\n",
    "            pystac.ProviderRole.PRODUCER,\n",
    "            pystac.ProviderRole.LICENSOR,\n",
    "            pystac.ProviderRole.PROCESSOR,\n",
    "        ],\n",
    "        url=\"https://data.hub.geosphere.at/\",\n",
    "        ),        \n",
    "    ]\n",
    "\n",
    "    collection.stac_extensions = [\n",
    "        ProjectionExtension.get_schema_uri(),\n",
    "        DatacubeExtension.get_schema_uri(),\n",
    "    ]\n",
    "\n",
    "    summaries_dict = {}\n",
    "    summaries_dict[\"grid\"] = [\"1x1km\"]\n",
    "    summaries_dict[\"temporal resolution\"] = [\"hourly\"]\n",
    "    summaries_dict[\"epsg\"] = [\"31287\"]\n",
    "    summaries_dict[\"projection\"] = [\"MGI / Austria Lambert (EPSG: 31287)\"]\n",
    "    summaries_dict[\"doi\"] = [\"https://doi.org/10.60669/6akt-5p05\"]\n",
    "    summaries_dict[\"timezone\"] = [\"UTC\"]\n",
    "    collection.summaries = Summaries(summaries_dict)\n",
    "\n",
    "    collection.add_asset(\n",
    "    key=\"thumbnail\",\n",
    "    asset=pystac.Asset(\n",
    "        href=\"https://raw.githubusercontent.com/eodcgmbh/s1_zarr/main/inca_thumbnail.png\",  # URL or path to your thumbnail\n",
    "        media_type=pystac.MediaType.PNG,\n",
    "        roles=[\"thumbnail\"],\n",
    "        title=\"Thumbnail\"\n",
    "    ))\n",
    "\n",
    "    bbox = [7.1, 45.77, 17.74, 49.48]\n",
    "    properties = {\"gsd\": 1000,\n",
    "                  \"datetime\": \"2011-03-15T00:00:00Z-present\",\n",
    "                  \"chunksize\": {\"x\":100, \"y\":100, \"time\": 720},\n",
    "                  \"proj:bbox\": [20000, 220000, 720000, 620000],\n",
    "                  \"proj:wkt2\": \"PROJCS[\\\"MGI / Austria Lambert\\\",GEOGCS[\\\"MGI\\\",DATUM[\\\"Militar_Geographische_Institute\\\",SPHEROID[\\\"Bessel 1841\\\",6377397.155,299.1528128,AUTHORITY[\\\"EPSG\\\",\\\"7004\\\"]],TOWGS84[577.326,90.129,463.919,5.137,1.474,5.297,2.4232],AUTHORITY[\\\"EPSG\\\",\\\"6312\\\"]],PRIMEM[\\\"Greenwich\\\",0,AUTHORITY[\\\"EPSG\\\",\\\"8901\\\"]],UNIT[\\\"degree\\\",0.0174532925199433,AUTHORITY[\\\"EPSG\\\",\\\"9122\\\"]],AUTHORITY[\\\"EPSG\\\",\\\"4312\\\"]],PROJECTION[\\\"Lambert_Conformal_Conic_2SP\\\"],PARAMETER[\\\"standard_parallel_1\\\",49],PARAMETER[\\\"standard_parallel_2\\\",46],PARAMETER[\\\"latitude_of_origin\\\",47.5],PARAMETER[\\\"central_meridian\\\",13.33333333333333],PARAMETER[\\\"false_easting\\\",400000],PARAMETER[\\\"false_northing\\\",400000],UNIT[\\\"metre\\\",1,AUTHORITY[\\\"EPSG\\\",\\\"9001\\\"]],AUTHORITY[\\\"EPSG\\\",\\\"31287\\\"]]\",\n",
    "                  \"proj:shape\": [701, 401],\n",
    "                  \"proj:geometry\": mapping(box(*bbox)),\n",
    "                  \"proj:transform\": [1000.0, 0.0, 20000.0, 0.0, 1000.0, 220000.0, 0.0, 0.0, 1.0],\n",
    "                  \"cube:dimensions\": datacube}\n",
    "    item = pystac.Item(id=\"zarr_store\", geometry=mapping(box(*bbox)), bbox=bbox, datetime=datetime.datetime(2011,3,15), properties=properties,)\n",
    "    item.add_asset(\"zarr_store\",\n",
    "                   pystac.Asset(href=\"https://data.eodc.eu/collections/INCA/INCA.zarr\",\n",
    "                    media_type=pystac.MediaType.ZARR,\n",
    "                    title=\"INCA\",\n",
    "                    roles=[\"data\"],),)            \n",
    "    \n",
    "    destination = \"inca_stac_coll\"\n",
    "    collection_path = os.path.join(destination, \"{}.json\".format(collection.id))\n",
    "    collection.set_self_href(collection_path)\n",
    "    item.save_object(dest_href=os.path.join(destination, \"item.json\"))\n",
    "    collection.save_object()\n",
    "    \n",
    "    return collection, item\n",
    "\n",
    "## Create Collection\n",
    "k, item = create_collection()\n",
    "\n",
    "k.to_dict()\n",
    "\n",
    "\n",
    "app_host = \"https://dev.stac.eodc.eu/ingestion/v1\"\n",
    "url = urljoin(app_host, \"/collections\")\n",
    "\n",
    "requests.post(\"https://dev.stac.eodc.eu/ingestion/v1/collections/incal-hourly/items\", json=item.to_dict(), auth=HTTPBasicAuth(username, password), timeout = 30)\n",
    "requests.put(\"https://dev.stac.eodc.eu/ingestion/v1/collections/incal-hourly\", json=k.to_dict(), auth=HTTPBasicAuth(username, password), timeout = 30)\n",
    "r = requests.post(app_host + \"/collections\", json=k.to_dict(), auth=HTTPBasicAuth(username, password), timeout = 30)\n"
   ]
  },
  {
   "cell_type": "code",
   "execution_count": null,
   "id": "878c0b1f",
   "metadata": {},
   "outputs": [
    {
     "data": {
      "text/plain": [
       "<Response [200]>"
      ]
     },
     "execution_count": 10,
     "metadata": {},
     "output_type": "execute_result"
    }
   ],
   "source": [
    "#requests.delete(\"https://dev.stac.eodc.eu/ingestion/v1/collections/incal-hourly\", auth=HTTPBasicAuth(username, password), timeout = 30)"
   ]
  },
  {
   "cell_type": "code",
   "execution_count": 19,
   "id": "b71beefc",
   "metadata": {},
   "outputs": [
    {
     "name": "stdout",
     "output_type": "stream",
     "text": [
      "Collection is valid.\n"
     ]
    }
   ],
   "source": [
    "collection = pystac.Collection.from_file(\"inca_stac_coll/incal-hourly.json\")\n",
    "\n",
    "try:\n",
    "    collection.validate()\n",
    "    print(\"Collection is valid.\")\n",
    "except Exception as e:\n",
    "    print(\"Validation failed:\", e)"
   ]
  },
  {
   "cell_type": "code",
   "execution_count": 20,
   "id": "a394d5a8",
   "metadata": {},
   "outputs": [
    {
     "name": "stdout",
     "output_type": "stream",
     "text": [
      "Item is valid.\n"
     ]
    }
   ],
   "source": [
    "item = pystac.Item.from_file(\"inca_stac_coll/item.json\")\n",
    "\n",
    "try:\n",
    "    item.validate()\n",
    "    print(\"Item is valid.\")\n",
    "except Exception as e:\n",
    "    print(\"Validation failed:\", e)\n"
   ]
  },
  {
   "cell_type": "code",
   "execution_count": null,
   "id": "7133ac7d",
   "metadata": {},
   "outputs": [],
   "source": []
  }
 ],
 "metadata": {
  "kernelspec": {
   "display_name": "zarr",
   "language": "python",
   "name": "python3"
  },
  "language_info": {
   "codemirror_mode": {
    "name": "ipython",
    "version": 3
   },
   "file_extension": ".py",
   "mimetype": "text/x-python",
   "name": "python",
   "nbconvert_exporter": "python",
   "pygments_lexer": "ipython3",
   "version": "3.11.4"
  }
 },
 "nbformat": 4,
 "nbformat_minor": 5
}
