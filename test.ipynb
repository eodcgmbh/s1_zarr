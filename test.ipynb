{
 "cells": [
  {
   "cell_type": "code",
   "execution_count": 5,
   "id": "c994e934",
   "metadata": {},
   "outputs": [],
   "source": [
    "from xcube.core.gen2 import CubeGenerator\n",
    "from xcube.core.gen2 import CubeGeneratorRequest"
   ]
  },
  {
   "cell_type": "code",
   "execution_count": 4,
   "id": "98514b97",
   "metadata": {},
   "outputs": [
    {
     "data": {
      "text/plain": [
       "<xcube.core.gen2.local.generator.LocalCubeGenerator at 0x7f17f5abf4d0>"
      ]
     },
     "execution_count": 4,
     "metadata": {},
     "output_type": "execute_result"
    }
   ],
   "source": [
    "local_generator = CubeGenerator.new()\n",
    "local_generator"
   ]
  },
  {
   "cell_type": "code",
   "execution_count": null,
   "id": "db36f034",
   "metadata": {},
   "outputs": [],
   "source": [
    "store = new_data_store(\"file\", root=\"../../serve/demo\")\n",
    "xcube.open_cube(EO_Data.zarr)"
   ]
  },
  {
   "cell_type": "code",
   "execution_count": null,
   "id": "4d741249",
   "metadata": {},
   "outputs": [],
   "source": []
  }
 ],
 "metadata": {
  "kernelspec": {
   "display_name": "summerjob",
   "language": "python",
   "name": "python3"
  },
  "language_info": {
   "codemirror_mode": {
    "name": "ipython",
    "version": 3
   },
   "file_extension": ".py",
   "mimetype": "text/x-python",
   "name": "python",
   "nbconvert_exporter": "python",
   "pygments_lexer": "ipython3",
   "version": "3.11.4"
  }
 },
 "nbformat": 4,
 "nbformat_minor": 5
}
