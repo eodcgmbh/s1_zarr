{
 "cells": [
  {
   "cell_type": "code",
   "execution_count": null,
   "id": "a110adef",
   "metadata": {},
   "outputs": [],
   "source": [
    "import pystac_client as pc\n",
    "from dask.distributed import LocalCluster"
   ]
  },
  {
   "cell_type": "code",
   "execution_count": null,
   "id": "3a12cc12",
   "metadata": {},
   "outputs": [],
   "source": [
    "from datetime import datetime\n",
    "from dateutil.relativedelta import relativedelta\n",
    "\n",
    "start = datetime(2022, 12, 30)\n",
    "end = datetime(2025, 6, 8)\n",
    "\n",
    "ranges = []\n",
    "\n",
    "current = start\n",
    "while current < end:\n",
    "    next_month = current + relativedelta(days=1)\n",
    "    range_str = f\"{current.strftime('%Y-%m-%d')}/{next_month.strftime('%Y-%m-%d')}\"\n",
    "    ranges.append(range_str)\n",
    "    current = next_month"
   ]
  },
  {
   "cell_type": "code",
   "execution_count": null,
   "id": "ac94e3d7",
   "metadata": {},
   "outputs": [],
   "source": [
    "pc_client = pc.Client.open(\"https://stac.eodc.eu/api/v1\")\n",
    "time_range = \"2024-01-01/2024-01-02\""
   ]
  },
  {
   "cell_type": "code",
   "execution_count": null,
   "id": "485a27a0",
   "metadata": {},
   "outputs": [],
   "source": [
    "search = pc_client.search(\n",
    "    collections=[\"SENTINEL1_SIG0_20M\"],\n",
    "    datetime=time_range\n",
    "    #fields={\"include\": [\"id\", \"properties.parent\"]}\n",
    "    #bbox = bbox_aut\n",
    "    #query={\"Equi7_TileID\": {\"eq\": \"EU020M_E051N015T3\"}}\n",
    ")"
   ]
  },
  {
   "cell_type": "code",
   "execution_count": null,
   "id": "0c7d2c37",
   "metadata": {},
   "outputs": [],
   "source": [
    "items_eodc = search.item_collection_as_dict()\n",
    "items_eodc"
   ]
  },
  {
   "cell_type": "code",
   "execution_count": null,
   "id": "e9f3fc64",
   "metadata": {},
   "outputs": [],
   "source": [
    "results = [\n",
    "    {\n",
    "        \"id\": feature[\"id\"],\n",
    "        \"parent\": feature[\"properties\"].get(\"parent\")\n",
    "    }\n",
    "    for feature in items_eodc[\"features\"]\n",
    "]"
   ]
  },
  {
   "cell_type": "code",
   "execution_count": null,
   "id": "54ef93ed",
   "metadata": {},
   "outputs": [],
   "source": [
    "entry = results[0]"
   ]
  },
  {
   "cell_type": "code",
   "execution_count": null,
   "id": "a3d82f33",
   "metadata": {},
   "outputs": [],
   "source": [
    "id_parts = entry['id'].split('_')\n",
    "id_time_str = next(p for p in id_parts if 'T' in p and len(p) == 15)\n",
    "id_time = datetime.strptime(id_time_str, \"%Y%m%dT%H%M%S\")"
   ]
  },
  {
   "cell_type": "code",
   "execution_count": null,
   "id": "a249dfdd",
   "metadata": {},
   "outputs": [],
   "source": [
    "parent_parts = entry['parent'].split('_')\n",
    "parent_time_strs = [p for p in parent_parts if len(p) == 15 and 'T' in p]\n",
    "parent_start = datetime.strptime(parent_time_strs[0], \"%Y%m%dT%H%M%S\")\n",
    "parent_end   = datetime.strptime(parent_time_strs[1], \"%Y%m%dT%H%M%S\")"
   ]
  },
  {
   "cell_type": "code",
   "execution_count": null,
   "id": "e8783ec4",
   "metadata": {},
   "outputs": [],
   "source": [
    "is_within = parent_start <= id_time <= parent_end"
   ]
  },
  {
   "cell_type": "code",
   "execution_count": null,
   "id": "80ca5249",
   "metadata": {},
   "outputs": [],
   "source": [
    "is_within"
   ]
  },
  {
   "cell_type": "code",
   "execution_count": null,
   "id": "72287790",
   "metadata": {},
   "outputs": [],
   "source": [
    "faulty_items = []\n",
    "\n",
    "for range in ranges:\n",
    "\n",
    "    search = pc_client.search(\n",
    "    collections=[\"SENTINEL1_SIG0_20M\"],\n",
    "    datetime=range\n",
    "    )\n",
    "\n",
    "    items_eodc = search.item_collection_as_dict()\n",
    "\n",
    "    results = [\n",
    "        {\n",
    "        \"id\": feature[\"id\"],\n",
    "        \"parent\": feature[\"properties\"].get(\"parent\")\n",
    "        }\n",
    "        for feature in items_eodc[\"features\"]\n",
    "    ]\n",
    "\n",
    "    for entry in results:\n",
    "        id_parts = entry['id'].split('_')\n",
    "        id_time_str = next(p for p in id_parts if 'T' in p and len(p) == 15)\n",
    "        id_time = datetime.strptime(id_time_str, \"%Y%m%dT%H%M%S\")\n",
    "\n",
    "        parent_parts = entry['parent'].split('_')\n",
    "        parent_time_strs = [p for p in parent_parts if len(p) == 15 and 'T' in p]\n",
    "        parent_start = datetime.strptime(parent_time_strs[0], \"%Y%m%dT%H%M%S\")\n",
    "        parent_end   = datetime.strptime(parent_time_strs[1], \"%Y%m%dT%H%M%S\")\n",
    "\n",
    "        is_within = parent_start <= id_time <= parent_end\n",
    "\n",
    "        if not is_within:\n",
    "            faulty_items.append(entry[\"id\"])\n",
    "\n",
    "    print(f\"{range} completed\")\n",
    "\n"
   ]
  },
  {
   "cell_type": "code",
   "execution_count": null,
   "id": "9b5157c3",
   "metadata": {},
   "outputs": [],
   "source": [
    "import csv\n",
    "\n",
    "with open(\"faulty_items.csv\", \"w\", newline=\"\") as f:\n",
    "    writer = csv.writer(f)\n",
    "    for item in faulty_items:\n",
    "        writer.writerow([item])"
   ]
  },
  {
   "cell_type": "code",
   "execution_count": null,
   "id": "423eba77",
   "metadata": {},
   "outputs": [],
   "source": []
  }
 ],
 "metadata": {
  "kernelspec": {
   "display_name": "dask_env",
   "language": "python",
   "name": "python3"
  },
  "language_info": {
   "codemirror_mode": {
    "name": "ipython",
    "version": 3
   },
   "file_extension": ".py",
   "mimetype": "text/x-python",
   "name": "python",
   "nbconvert_exporter": "python",
   "pygments_lexer": "ipython3",
   "version": "3.11.4"
  }
 },
 "nbformat": 4,
 "nbformat_minor": 5
}
