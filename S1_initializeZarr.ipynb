{
 "cells": [
  {
   "cell_type": "code",
   "execution_count": null,
   "id": "d3531ce8",
   "metadata": {},
   "outputs": [],
   "source": [
    "import zarr\n",
    "import numpy as np\n",
    "import pystac_client as pc\n",
    "import xarray as xr\n",
    "import rioxarray\n",
    "import pandas as pd\n",
    "from datetime import datetime, timezone, date\n",
    "#from tqdm import tqdm\n",
    "import BuildZarrStore as bzs\n",
    "import stackstac\n",
    "from pyproj import CRS\n",
    "from dask.distributed import LocalCluster\n",
    "#os.environ[\"ZARR_V3_EXPERIMENTAL_API\"] = \"1\""
   ]
  },
  {
   "cell_type": "code",
   "execution_count": null,
   "id": "dcca88c0",
   "metadata": {},
   "outputs": [],
   "source": [
    "origin = np.datetime64(\"2014-10-01\")\n",
    "date = np.datetime64(datetime.now()).astype(\"datetime64[D]\")\n",
    "date_delta = (date - origin+1).astype(\"int64\")\n",
    "\n",
    "date_delta"
   ]
  },
  {
   "cell_type": "code",
   "execution_count": null,
   "id": "8a3ad846",
   "metadata": {},
   "outputs": [],
   "source": [
    "x_extent = np.arange(4800000, 5700000, 20)\n",
    "y_extent = np.arange(1800000, 1200000, -20)\n",
    "time_extent = np.arange(0,date_delta,1)"
   ]
  },
  {
   "cell_type": "code",
   "execution_count": null,
   "id": "2aa65865",
   "metadata": {},
   "outputs": [],
   "source": [
    "shape = (time_extent.shape[0],y_extent.shape[0],x_extent.shape[0])\n",
    "chunk_shape = (30,500,500)\n",
    "shard_shape = (30,2500,2500)\n",
    "x_shape = x_extent.shape\n",
    "y_shape = y_extent.shape\n",
    "time_shape = time_extent.shape"
   ]
  },
  {
   "cell_type": "code",
   "execution_count": null,
   "id": "da0da444",
   "metadata": {},
   "outputs": [],
   "source": [
    "overwrite=True\n",
    "store = zarr.storage.LocalStore(\"s1sig0_v2.zarr\")\n",
    "root = zarr.create_group(store=store, overwrite=overwrite)\n",
    "vv = root.create_group(\"VV\")\n",
    "vh = root.create_group(\"VH\")\n",
    "meta = root.create_group(\"metadata\")"
   ]
  },
  {
   "cell_type": "code",
   "execution_count": null,
   "id": "150d9a24",
   "metadata": {},
   "outputs": [],
   "source": [
    "bzs.make_group_S1(vv, \"VV\", shape, shards=shard_shape, chunks=chunk_shape, x_shape=x_shape, y_shape=y_shape, time_shape=time_shape, x_extent=x_extent, y_extent=y_extent, time_extent=time_extent)\n",
    "bzs.make_group_S1(vh, \"VH\", shape, shards=shard_shape, chunks=chunk_shape, x_shape=x_shape, y_shape=y_shape, time_shape=time_shape, x_extent=x_extent, y_extent=y_extent, time_extent=time_extent)"
   ]
  },
  {
   "cell_type": "code",
   "execution_count": null,
   "id": "d0cb9e7d",
   "metadata": {},
   "outputs": [],
   "source": [
    "meta.create_array(name=\"sensing_date\",\n",
    "                shape=shape,\n",
    "                shards=(30,5000,5000),\n",
    "                chunks=(30,250,250),\n",
    "                dtype=\"int64\",\n",
    "                fill_value=-9999,\n",
    "                dimension_names=[\"time\", \"y\", \"x\"],\n",
    "                attributes={\"units\": \"seconds since 2014-10-01 00:00:00\",\n",
    "                            \"calendar\": \"proleptic_gregorian\",\n",
    "                            \"_FillValue\": -9999},\n",
    "                overwrite=overwrite)\n",
    "\n",
    "meta.create_array(name=\"absolute_orbit_number\",\n",
    "                shape=shape,\n",
    "                shards=(30,5000,5000),\n",
    "                chunks=(30,250,250),\n",
    "                dtype=\"int32\",\n",
    "                fill_value=-9999,\n",
    "                dimension_names=[\"time\", \"y\", \"x\"],\n",
    "                attributes={\"_FillValue\": -9999},\n",
    "                overwrite=overwrite)\n",
    "\n",
    "meta.create_array(name=\"relative_orbit_number\",\n",
    "                shape=shape,\n",
    "                shards=(30,5000,5000),\n",
    "                chunks=(30,250,250),\n",
    "                dtype=\"int16\",\n",
    "                fill_value=-9999,\n",
    "                dimension_names=[\"time\", \"y\", \"x\"],\n",
    "                attributes={\"_FillValue\": -9999},\n",
    "                overwrite=overwrite)\n",
    "\n",
    "x_array = meta.create_array(name=\"x\",\n",
    "            shape=x_shape,\n",
    "            chunks=x_shape,\n",
    "            dtype=\"float64\",\n",
    "            dimension_names=[\"x\"],\n",
    "            attributes={\"_FillValue\": \"AAAAAAAA+H8=\"}, #fill value is NaN\n",
    "            overwrite=overwrite)\n",
    "\n",
    "y_array = meta.create_array(name=\"y\",\n",
    "            shape=y_shape,\n",
    "            chunks=y_shape,\n",
    "            dtype=\"float64\",\n",
    "            dimension_names=[\"y\"],\n",
    "            attributes={\"_FillValue\": \"AAAAAAAA+H8=\"}, #fill value is NaN\n",
    "            overwrite=overwrite)\n",
    "\n",
    "time_array = meta.create_array(name=\"time\",\n",
    "            shape=time_shape,\n",
    "            dtype=\"int64\",\n",
    "            dimension_names=[\"time\"],\n",
    "            attributes={\"units\": \"days since 2014-10-01\",\n",
    "                        \"calendar\": \"proleptic_gregorian\"},\n",
    "            overwrite=overwrite)\n",
    "\n",
    "x_array[:] = x_extent\n",
    "y_array[:] = y_extent\n",
    "time_array[:] = time_extent"
   ]
  },
  {
   "cell_type": "code",
   "execution_count": null,
   "id": "05b75d5c",
   "metadata": {},
   "outputs": [],
   "source": [
    "zarr.consolidate_metadata(store, path=\"VV\")\n",
    "zarr.consolidate_metadata(store, path=\"VH\")\n",
    "zarr.consolidate_metadata(store, path=\"metadata\")\n",
    "zarr.consolidate_metadata(store)"
   ]
  },
  {
   "cell_type": "code",
   "execution_count": null,
   "id": "05567791",
   "metadata": {},
   "outputs": [],
   "source": [
    "store = zarr.storage.LocalStore(\"s1sig0_v2.zarr\")\n",
    "group = zarr.group(store=store)[\"VV\"]\n",
    "x_extent = group[\"x\"][:]\n",
    "y_extent = group[\"y\"][:]\n",
    "time_shape = group[\"time\"].shape\n",
    "data_shape = group[\"VV\"].shape"
   ]
  },
  {
   "cell_type": "code",
   "execution_count": null,
   "id": "c53e57e0",
   "metadata": {},
   "outputs": [],
   "source": [
    "time2append = np.arange(group[\"time\"][-1]+1, group[\"time\"][-1]+31, 1)"
   ]
  },
  {
   "cell_type": "code",
   "execution_count": null,
   "id": "9cb77029",
   "metadata": {},
   "outputs": [],
   "source": [
    "group[\"VV\"].resize((3962, 30000, 45000))"
   ]
  },
  {
   "cell_type": "code",
   "execution_count": null,
   "id": "5e564c9c",
   "metadata": {},
   "outputs": [],
   "source": [
    "group[\"time\"].append(time2append)"
   ]
  },
  {
   "cell_type": "code",
   "execution_count": null,
   "id": "3d0f44c3",
   "metadata": {},
   "outputs": [],
   "source": [
    "with open('s1sig0_v2.zarr/zarr.json', 'w') as f:\n",
    "    f.write(\"{}\")"
   ]
  },
  {
   "cell_type": "code",
   "execution_count": null,
   "metadata": {},
   "outputs": [],
   "source": [
    "zarr.consolidate_metadata(store, path=\"VV\")\n",
    "zarr.consolidate_metadata(store, path=\"VH\")\n",
    "zarr.consolidate_metadata(store, path=\"metadata\")\n",
    "zarr.consolidate_metadata(store)"
   ]
  },
  {
   "cell_type": "code",
   "execution_count": null,
   "id": "f35f6bda",
   "metadata": {},
   "outputs": [],
   "source": []
  },
  {
   "cell_type": "code",
   "execution_count": null,
   "id": "75744b45",
   "metadata": {},
   "outputs": [],
   "source": [
    "xr.open_zarr(\"INCA_old.zarr\", group=\"GL\",consolidated = True)"
   ]
  },
  {
   "cell_type": "code",
   "execution_count": null,
   "id": "5972940e",
   "metadata": {},
   "outputs": [],
   "source": []
  }
 ],
 "metadata": {
  "kernelspec": {
   "display_name": "zarr",
   "language": "python",
   "name": "python3"
  },
  "language_info": {
   "codemirror_mode": {
    "name": "ipython",
    "version": 3
   },
   "file_extension": ".py",
   "mimetype": "text/x-python",
   "name": "python",
   "nbconvert_exporter": "python",
   "pygments_lexer": "ipython3",
   "version": "3.11.4"
  }
 },
 "nbformat": 4,
 "nbformat_minor": 5
}
