{
 "cells": [],
 "metadata": {
  "kernelspec": {
   "display_name": "Python (summerjob)",
   "language": "python",
   "name": "summerjob"
  }
 },
 "nbformat": 4,
 "nbformat_minor": 5
}
